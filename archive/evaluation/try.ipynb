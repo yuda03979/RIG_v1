{
 "cells": [
  {
   "cell_type": "code",
   "id": "initial_id",
   "metadata": {
    "collapsed": true,
    "ExecuteTime": {
     "end_time": "2024-12-04T13:11:30.656608Z",
     "start_time": "2024-12-04T13:11:25.524265Z"
    }
   },
   "source": "from RIG import RuleInstanceGenerator",
   "outputs": [],
   "execution_count": 1
  },
  {
   "metadata": {
    "ExecuteTime": {
     "end_time": "2024-12-04T13:11:36.843863Z",
     "start_time": "2024-12-04T13:11:30.657456Z"
    }
   },
   "cell_type": "code",
   "source": [
    "# all the parameters are optional, except the data_directory, unless you change it in the globals. it is also recommended to change db_file_name\n",
    "\n",
    "rig = RuleInstanceGenerator(\n",
    "    project_directory=\"/Users/yuda/PycharmProjects/EltaProject_v1/archive/data_directory/\",  # data_directory=\"/.../\" \n",
    ")"
   ],
   "id": "b0f20d2591b89a57",
   "outputs": [
    {
     "name": "stdout",
     "output_type": "stream",
     "text": [
      "Server started on 0.0.0.0:8080\n"
     ]
    }
   ],
   "execution_count": 2
  },
  {
   "metadata": {
    "ExecuteTime": {
     "end_time": "2024-12-04T13:11:41.883151Z",
     "start_time": "2024-12-04T13:11:39.996166Z"
    }
   },
   "cell_type": "code",
   "source": [
    "free_text = \"Alright, let's dive in. We're looking at 'Exploitation Scenario 789'. The crux of the matter is, there's this individual, going by the ID 'XYZ789', who's been involved in an exploitation failure. The level of seriousness? I'd estimate about three. The breach? Fairness. Not good, not good at all. When did we spot this? Well, the detection time isn't clear. And the context? Personal. Yes, it's a pretty serious situation\"\n",
    "\n",
    "response = rig.get_rule_instance(free_text) # return dictionary"
   ],
   "id": "c8152a2dd416806a",
   "outputs": [],
   "execution_count": 3
  },
  {
   "metadata": {},
   "cell_type": "code",
   "source": "",
   "id": "40982fb42a88701",
   "outputs": [],
   "execution_count": null
  }
 ],
 "metadata": {
  "kernelspec": {
   "display_name": "Python 3",
   "language": "python",
   "name": "python3"
  },
  "language_info": {
   "codemirror_mode": {
    "name": "ipython",
    "version": 2
   },
   "file_extension": ".py",
   "mimetype": "text/x-python",
   "name": "python",
   "nbconvert_exporter": "python",
   "pygments_lexer": "ipython2",
   "version": "2.7.6"
  }
 },
 "nbformat": 4,
 "nbformat_minor": 5
}
