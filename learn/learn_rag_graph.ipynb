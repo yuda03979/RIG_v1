{
 "cells": [
  {
   "metadata": {
    "ExecuteTime": {
     "end_time": "2024-12-17T11:46:47.153015Z",
     "start_time": "2024-12-17T11:46:47.151065Z"
    }
   },
   "cell_type": "code",
   "source": [
    "import os\n",
    "import nltk"
   ],
   "id": "9634d688df9077b3",
   "outputs": [],
   "execution_count": 1
  },
  {
   "metadata": {},
   "cell_type": "markdown",
   "source": "### load openai env var",
   "id": "9f21477eb11506dd"
  },
  {
   "cell_type": "code",
   "id": "initial_id",
   "metadata": {
    "collapsed": true,
    "ExecuteTime": {
     "end_time": "2024-12-17T11:46:48.014461Z",
     "start_time": "2024-12-17T11:46:48.011496Z"
    }
   },
   "source": [
    "openai_api_key = \"asaka-proj-j1Oma0DsZJX94ixXQpDko6SX-lqU3zNIU0WBCloPxZBLmgBrtTtgvO0yn8b2248T0dNGBePKHfT3BlbkFJZordW7jGqwHTRZS7DOrRsdjvP9x2qvcX4f0wFJ2G3dzzK7RYfCNg_bxLPzhDX7V_tsap5hzU8A\"\n",
    "\n",
    "os.environ[\"OPENAI_API_KEY\"] = openai_api_key\n",
    "os.environ[\"KMP_DUPLICATE_LIB_OK\"]=\"TRUE\"  # ???"
   ],
   "outputs": [],
   "execution_count": 2
  },
  {
   "metadata": {},
   "cell_type": "code",
   "outputs": [],
   "execution_count": null,
   "source": [
    "nltk.download('punkt', quiet=True) # ???\n",
    "nltk.download('wordnet', quiet=True) # ???"
   ],
   "id": "2c8e88a7d3bb652c"
  },
  {
   "metadata": {},
   "cell_type": "code",
   "outputs": [],
   "execution_count": null,
   "source": "",
   "id": "48dc8cfa7a8642ff"
  }
 ],
 "metadata": {
  "kernelspec": {
   "display_name": "Python 3",
   "language": "python",
   "name": "python3"
  },
  "language_info": {
   "codemirror_mode": {
    "name": "ipython",
    "version": 2
   },
   "file_extension": ".py",
   "mimetype": "text/x-python",
   "name": "python",
   "nbconvert_exporter": "python",
   "pygments_lexer": "ipython2",
   "version": "2.7.6"
  }
 },
 "nbformat": 4,
 "nbformat_minor": 5
}
