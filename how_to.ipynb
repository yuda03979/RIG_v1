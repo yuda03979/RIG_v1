{
 "cells": [
  {
   "cell_type": "code",
   "id": "initial_id",
   "metadata": {
    "collapsed": true,
    "ExecuteTime": {
     "end_time": "2024-12-12T07:27:19.289714Z",
     "start_time": "2024-12-12T07:27:08.801392Z"
    }
   },
   "source": "from RIG import RuleInstanceGenerator",
   "outputs": [
    {
     "name": "stderr",
     "output_type": "stream",
     "text": [
      "/home/mefathim/.local/lib/python3.10/site-packages/tqdm/auto.py:21: TqdmWarning: IProgress not found. Please update jupyter and ipywidgets. See https://ipywidgets.readthedocs.io/en/stable/user_install.html\n",
      "  from .autonotebook import tqdm as notebook_tqdm\n",
      "2024-12-12 09:27:15.430810: I tensorflow/core/platform/cpu_feature_guard.cc:193] This TensorFlow binary is optimized with oneAPI Deep Neural Network Library (oneDNN) to use the following CPU instructions in performance-critical operations:  AVX2 FMA\n",
      "To enable them in other operations, rebuild TensorFlow with the appropriate compiler flags.\n",
      "2024-12-12 09:27:15.961145: W tensorflow/compiler/xla/stream_executor/platform/default/dso_loader.cc:64] Could not load dynamic library 'libcudart.so.11.0'; dlerror: libcudart.so.11.0: cannot open shared object file: No such file or directory\n",
      "2024-12-12 09:27:15.961168: I tensorflow/compiler/xla/stream_executor/cuda/cudart_stub.cc:29] Ignore above cudart dlerror if you do not have a GPU set up on your machine.\n",
      "2024-12-12 09:27:17.632310: W tensorflow/compiler/xla/stream_executor/platform/default/dso_loader.cc:64] Could not load dynamic library 'libnvinfer.so.7'; dlerror: libnvinfer.so.7: cannot open shared object file: No such file or directory\n",
      "2024-12-12 09:27:17.633221: W tensorflow/compiler/xla/stream_executor/platform/default/dso_loader.cc:64] Could not load dynamic library 'libnvinfer_plugin.so.7'; dlerror: libnvinfer_plugin.so.7: cannot open shared object file: No such file or directory\n",
      "2024-12-12 09:27:17.633232: W tensorflow/compiler/tf2tensorrt/utils/py_utils.cc:38] TF-TRT Warning: Cannot dlopen some TensorRT libraries. If you would like to use Nvidia GPU with TensorRT, please make sure the missing libraries mentioned above are installed properly.\n"
     ]
    }
   ],
   "execution_count": 1
  },
  {
   "metadata": {
    "ExecuteTime": {
     "end_time": "2024-12-11T20:58:51.014780Z",
     "start_time": "2024-12-11T20:58:49.040704Z"
    }
   },
   "cell_type": "code",
   "source": [
    "rig = RuleInstanceGenerator(\n",
    "    project_directory=\"/home/mefathim/PycharmProjects/RIG_v4/project_directory\",  # required\n",
    "    gpt_model_path=\"/home/mefathim/PycharmProjects/RIG_v2/benchmark/data_directory/gemma-2-2b-it-Q8_0.gguf\", # required\n",
    "    rag_model_path=\"/home/mefathim/PycharmProjects/bge-m3\", # required\n",
    "    rule_types_directory=\"\", # optional. if you want to load rule-types from directory.\n",
    "    rag_threshold=0.5, # oprional\n",
    "    max_context_length=1024, # optional\n",
    "    max_new_tokens=512, # optional\n",
    "    n_threads=5 # optional\n",
    ")"
   ],
   "id": "a8d89b711cd268a1",
   "outputs": [],
   "execution_count": 2
  },
  {
   "metadata": {
    "ExecuteTime": {
     "end_time": "2024-12-11T20:39:25.603352Z",
     "start_time": "2024-12-11T20:39:25.595746Z"
    }
   },
   "cell_type": "code",
   "source": [
    "# get list of existing rule types:\n",
    "rig.get_rule_types_names()"
   ],
   "id": "40f11096719ee8f8",
   "outputs": [
    {
     "data": {
      "text/plain": [
       "['missile malfunction',\n",
       " 'missile failure',\n",
       " 'launch failure',\n",
       " 'platoon report',\n",
       " 'encryption flaw',\n",
       " 'corruption scandal',\n",
       " 'betrayal risk',\n",
       " 'leadership breakdown',\n",
       " 'satellite disruption',\n",
       " 'bomb failure',\n",
       " 'defection threat',\n",
       " 'attack overview',\n",
       " 'fire control',\n",
       " 'disloyal soldier',\n",
       " 'command incompetence',\n",
       " 'supply shortage',\n",
       " 'system failure',\n",
       " 'covert agent',\n",
       " 'suspected person',\n",
       " 'radar error monitoring',\n",
       " 'api throttling',\n",
       " 'temperature overload',\n",
       " 'disk space warning',\n",
       " 'memory usage alert',\n",
       " 'equipment malfunction',\n",
       " 'password expiry',\n",
       " 'temperature threshold exceeded']"
      ]
     },
     "execution_count": 3,
     "metadata": {},
     "output_type": "execute_result"
    }
   ],
   "execution_count": 3
  },
  {
   "metadata": {},
   "cell_type": "markdown",
   "source": "## get rule instance from free text",
   "id": "af0758f5e833cca9"
  },
  {
   "metadata": {
    "ExecuteTime": {
     "end_time": "2024-12-11T20:39:33.169176Z",
     "start_time": "2024-12-11T20:39:27.521062Z"
    }
   },
   "cell_type": "code",
   "source": "rig.init_gemma_model(max_context_length=1024 + 512)",
   "id": "935789e3a7f1260d",
   "outputs": [
    {
     "data": {
      "text/plain": [
       "True"
      ]
     },
     "execution_count": 4,
     "metadata": {},
     "output_type": "execute_result"
    }
   ],
   "execution_count": 4
  },
  {
   "metadata": {
    "ExecuteTime": {
     "end_time": "2024-12-11T20:40:17.979708Z",
     "start_time": "2024-12-11T20:39:36.023668Z"
    }
   },
   "cell_type": "code",
   "source": [
    "free_text = \"Alright, let's dive in. We're looking at 'Exploitation Scenario 789'. The crux of the matter is, there's this individual, going by the ID 'XYZ789', who's been involved in an exploitation failure. The level of seriousness? I'd estimate about three. The breach? Fairness. Not good, not good at all. When did we spot this? Well, the detection time isn't clear. And the context? Personal. Yes, it's a pretty serious situation\"\n",
    "\n",
    "response = rig.get_rule_instance(free_text) # return dictionary"
   ],
   "id": "d41d9ff66ad84cda",
   "outputs": [
    {
     "name": "stdout",
     "output_type": "stream",
     "text": [
      "{'flawID': 'String', 'flawType': 'String', 'flawSeverity': 'Int', 'detectionTime': 'String', 'affectedProtocol': 'String', 'encryptionKey': 'String', 'ruleInstanceName': 'string', 'severity': 'int'}\n",
      "Logged question and answer: Alright, let's dive in. We're looking at 'Exploitation Scenario 789'. The crux of the matter is, there's this individual, going by the ID 'XYZ789', who's been involved in an exploitation failure. The level of seriousness? I'd estimate about three. The breach? Fairness. Not good, not good at all. When did we spot this? Well, the detection time isn't clear. And the context? Personal. Yes, it's a pretty serious situation\n"
     ]
    }
   ],
   "execution_count": 5
  },
  {
   "metadata": {
    "ExecuteTime": {
     "end_time": "2024-12-11T20:40:36.623861Z",
     "start_time": "2024-12-11T20:40:36.618869Z"
    }
   },
   "cell_type": "code",
   "source": "response.keys()",
   "id": "291f52e6d13fea73",
   "outputs": [
    {
     "data": {
      "text/plain": [
       "dict_keys(['rule_instance', 'is_error', 'error_message', 'free_text', 'type_name', 'rag_score', 'model_response', 'example', 'schema', 'time', 'inference_time'])"
      ]
     },
     "execution_count": 8,
     "metadata": {},
     "output_type": "execute_result"
    }
   ],
   "execution_count": 8
  },
  {
   "metadata": {
    "ExecuteTime": {
     "end_time": "2024-12-11T20:40:37.415352Z",
     "start_time": "2024-12-11T20:40:37.407304Z"
    }
   },
   "cell_type": "code",
   "source": "response # the package response\n",
   "id": "6dbad012ab6f1195",
   "outputs": [
    {
     "data": {
      "text/plain": [
       "{'rule_instance': {'_id': '00000000-0000-0000-0000-000000000000',\n",
       "  'description': 'string',\n",
       "  'isActive': True,\n",
       "  'lastUpdateTime': '00/00/0000 00:00:00',\n",
       "  'params': {'launchID': '',\n",
       "   'failureType': '',\n",
       "   'failureSeverity': '',\n",
       "   'impactArea': '',\n",
       "   'launchTime': '',\n",
       "   'recoveryTime': ''},\n",
       "  'ruleInstanceName': 'launch failure - Exploitation Scenario',\n",
       "  'severity': '',\n",
       "  'ruleType': 'structured',\n",
       "  'ruleOwner': '',\n",
       "  'ruleTypeId': 'a4e8b2c1-e5f3-4c8f-826b-31b9e9ab732b',\n",
       "  'eventDetails': [{'objectName': 'Launch',\n",
       "    'objectDescription': None,\n",
       "    'timeWindowInMilliseconds': 0,\n",
       "    'useLatest': False}],\n",
       "  'additionalInformation': {},\n",
       "  'presetId': '00000000-0000-0000-0000-000000000000'},\n",
       " 'is_error': False,\n",
       " 'error_message': '',\n",
       " 'free_text': \"Alright, let's dive in. We're looking at 'Exploitation Scenario 789'. The crux of the matter is, there's this individual, going by the ID 'XYZ789', who's been involved in an exploitation failure. The level of seriousness? I'd estimate about three. The breach? Fairness. Not good, not good at all. When did we spot this? Well, the detection time isn't clear. And the context? Personal. Yes, it's a pretty serious situation\",\n",
       " 'type_name': 'launch failure',\n",
       " 'rag_score': 0.5653712722897519,\n",
       " 'model_response': \"{'ruleInstanceName': 'launch failure - Exploitation Scenario'}\",\n",
       " 'example': {'example_1': {'distance': array([0.68280934]),\n",
       "   'free_text': '[\"Okay, so check this out. There was this major system flaw that was detected, right? It was named, uh... \\'System Vulnerability Warning\\' or something like that. It was quite serious, like really serious. The flaw was tagged as \\'5678\\', and it was one of those \\'Cross-site Scripting\\' issues. The severity? Well, they said it was level six, so that\\'s a pretty big deal. It was detected at, um... \\'2022-06-15T18:20:00Z\\' to be precise. The encryption key that was compromised was \\'xyz789\\'. I don\\'t think they\\'ve figured out which protocol was affected yet, but it\\'s clear it\\'s a pretty big mess, you know?\"]',\n",
       "   'response': \"{'ruleInstanceName': 'System Vulnerability Warning', 'severity': 6, 'flawID': '5678', 'flawType': 'Cross-site Scripting', 'flawSeverity': '', 'detectionTime': '2022-06-15T18:20:00Z', 'affectedProtocol': '', 'encryptionKey': 'xyz789'}\",\n",
       "   'response_id': 'encryption_flawD3Q4',\n",
       "   'type_name': 'encryption_flaw'},\n",
       "  'example_2': {'distance': array([0.67898117]),\n",
       "   'free_text': '[\"So, let\\'s delve into the case at hand. The situation we\\'re dealing with is \\'Covert Agent Critical Situation\\'. Now, the key facts to note are that we\\'re dealing with a severity level of three, which is a pretty serious issue. The agent we\\'re talking about is 1234. The betrayal we\\'re dealing with here is of a financial nature. The detection time was 2022-02-01 12:30:00. It\\'s also worth noting that the relationship strength was strong and the risk factor was high.\"]',\n",
       "   'response': \"{'ruleInstanceName': 'Covert Agent Critical Situation', 'severity': 3, 'agentID': '1234', 'betrayalType': 'Financial Betrayal', 'detectionTime': '2022-02-01 12:30:00', 'relationshipStrength': 'Strong', 'riskFactor': 'High'}\",\n",
       "   'response_id': 'betrayal_riskD1Q3',\n",
       "   'type_name': 'betrayal_risk'}},\n",
       " 'schema': {'launchID': 'String',\n",
       "  'failureType': 'String',\n",
       "  'failureSeverity': 'Int',\n",
       "  'impactArea': 'String',\n",
       "  'launchTime': 'String',\n",
       "  'recoveryTime': 'Int',\n",
       "  'ruleInstanceName': 'string',\n",
       "  'severity': 'int'},\n",
       " 'time': '2024-12-11|22:40:14',\n",
       " 'inference_time': 38.5771324634552}"
      ]
     },
     "execution_count": 9,
     "metadata": {},
     "output_type": "execute_result"
    }
   ],
   "execution_count": 9
  },
  {
   "metadata": {
    "ExecuteTime": {
     "end_time": "2024-12-11T18:18:41.647417Z",
     "start_time": "2024-12-11T18:18:41.639392Z"
    }
   },
   "cell_type": "code",
   "source": [
    "# giving us feedback on the response. it will help us to improve the project. it stores in .logs file, without internet connection.\n",
    "rig.feedback(True)  # or 0.8, or what ever you can  "
   ],
   "id": "1fd6dbf5fae064c9",
   "outputs": [
    {
     "data": {
      "text/plain": [
       "'thank you :)'"
      ]
     },
     "execution_count": 8,
     "metadata": {},
     "output_type": "execute_result"
    }
   ],
   "execution_count": 8
  },
  {
   "metadata": {},
   "cell_type": "markdown",
   "source": "# now you can run the evaluation:",
   "id": "e347cadf3211cca9"
  },
  {
   "metadata": {
    "ExecuteTime": {
     "end_time": "2024-12-11T20:59:07.661023Z",
     "start_time": "2024-12-11T20:59:04.966466Z"
    }
   },
   "cell_type": "code",
   "source": [
    "rig.evaluate(\n",
    "    data_dile_path=\"/home/mefathim/PycharmProjects/RIG_v4/evaluation/data/data_yuda.csv\",\n",
    "    output_directory=\"/home/mefathim/PycharmProjects/RIG_v4/evaluation/output\",\n",
    "    start_point = 0,\n",
    "    end_point = 1, # None = all the data\n",
    "    sleep_time_each_10_iter = 30\n",
    ")"
   ],
   "id": "3a636acd65e09e7b",
   "outputs": [
    {
     "name": "stderr",
     "output_type": "stream",
     "text": [
      "  0%|          | 0/1 [00:00<?, ?it/s]"
     ]
    },
    {
     "name": "stdout",
     "output_type": "stream",
     "text": [
      "0\n"
     ]
    },
    {
     "name": "stderr",
     "output_type": "stream",
     "text": [
      "100%|██████████| 1/1 [00:02<00:00,  2.60s/it]"
     ]
    },
    {
     "name": "stdout",
     "output_type": "stream",
     "text": [
      "error:  {'rule_instance': None, 'is_error': True, 'error_message': \"Processing failed: AttributeError, 'NoneType' object has no attribute 'predict'\", 'free_text': \"Hold on a minute! You're saying that an Intelligence Operative has defected for Personal Gain, and it's only classified as severity three? That's preposterous! How is that feasible? How is it that such a significant move has such a low severity rating? And the threat level is just High? That's quite serious, but only High? Are they really terming it as just 'defection threat Critical Situation'? That doesn't make any sense at all. I thought defection of such a high profile operative would be much worse than this. The severity rating is just... a three? Are you certain about this? This doesn't seem to reconcile at all. How can an event of this magnitude be so low on the scale? It seems like they're trivializing the whole situation. 'defection threat Critical Situation' doesn't even seem to align with the situation at hand. Why is it being minimized this much? I can't fathom this is the official response to such a significant event. We need to reassess how these situations are being classified.\", 'type_name': None, 'rag_score': None, 'model_response': None, 'schema': None, 'time': '2024-12-11|22:59:07', 'inference_time': 2.593899726867676}\n",
      "error\n",
      "without classification mistakes: \n",
      "\n",
      "Average Accuracy Metrics:\n",
      "binary_score: nan%\n",
      "binary_score_no_instance_name: nan%\n",
      "param_numerical_binary_score: nan%\n",
      "param_numerical_avg_score: nan%\n",
      "param_verbal_binary_score: nan%\n",
      "param_verbal_avg_score: nan%\n",
      "score_rule_instance_name: nan%\n",
      "classification score: nan%\n",
      "with all the data: \n",
      "\n",
      "Average Accuracy Metrics:\n",
      "binary_score: 0.00%\n",
      "binary_score_no_instance_name: 0.00%\n",
      "param_numerical_binary_score: 0.00%\n",
      "param_numerical_avg_score: 0.00%\n",
      "param_verbal_binary_score: 0.00%\n",
      "param_verbal_avg_score: 0.00%\n",
      "score_rule_instance_name: 0.00%\n",
      "classification score: 0.00%\n"
     ]
    },
    {
     "name": "stderr",
     "output_type": "stream",
     "text": [
      "\n"
     ]
    }
   ],
   "execution_count": 3
  },
  {
   "metadata": {},
   "cell_type": "markdown",
   "source": [
    "## using the GUI\n",
    "very basic, work only with the globals file constant"
   ],
   "id": "b481d837f9f01dc3"
  },
  {
   "metadata": {
    "ExecuteTime": {
     "end_time": "2024-12-09T09:53:32.135378Z",
     "start_time": "2024-12-09T09:53:32.133832Z"
    }
   },
   "cell_type": "code",
   "source": [
    "# from RIG.src.Utils.GUI import run_gui\n",
    "# run_gui()"
   ],
   "id": "e125ccc9f3fcbaa1",
   "outputs": [],
   "execution_count": 10
  }
 ],
 "metadata": {
  "kernelspec": {
   "display_name": "Python 3",
   "language": "python",
   "name": "python3"
  },
  "language_info": {
   "codemirror_mode": {
    "name": "ipython",
    "version": 2
   },
   "file_extension": ".py",
   "mimetype": "text/x-python",
   "name": "python",
   "nbconvert_exporter": "python",
   "pygments_lexer": "ipython2",
   "version": "2.7.6"
  }
 },
 "nbformat": 4,
 "nbformat_minor": 5
}
