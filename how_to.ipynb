{
 "cells": [
  {
   "cell_type": "code",
   "id": "initial_id",
   "metadata": {
    "collapsed": true,
    "ExecuteTime": {
     "end_time": "2024-12-02T23:05:53.512396Z",
     "start_time": "2024-12-02T23:05:48.085110Z"
    }
   },
   "source": "from RIG import RuleInstanceGenerator",
   "outputs": [],
   "execution_count": 1
  },
  {
   "metadata": {
    "ExecuteTime": {
     "end_time": "2024-12-02T23:05:58.166864Z",
     "start_time": "2024-12-02T23:05:53.513548Z"
    }
   },
   "cell_type": "code",
   "source": [
    "# all the parameters are optional, except the data_directory, unless you change it in the globals. it is also recommended to change db_file_name\n",
    "\n",
    "rig = RuleInstanceGenerator(\n",
    "    data_directory=\"/Users/yuda/PycharmProjects/EltaBenchmark/benchmark/data_directory/\",  # data_directory=\"/.../\" \n",
    "    db_file_name=\"db_data.csv\"  # db_file_name=\"blabla.csv\"\n",
    ")"
   ],
   "id": "a8d89b711cd268a1",
   "outputs": [
    {
     "name": "stderr",
     "output_type": "stream",
     "text": [
      "llama_new_context_with_model: n_ctx_per_seq (1024) < n_ctx_train (8192) -- the full capacity of the model will not be utilized\n",
      "ggml_metal_init: skipping kernel_get_rows_bf16                     (not supported)\n",
      "ggml_metal_init: skipping kernel_mul_mv_bf16_f32                   (not supported)\n",
      "ggml_metal_init: skipping kernel_mul_mv_bf16_f32_1row              (not supported)\n",
      "ggml_metal_init: skipping kernel_mul_mv_bf16_f32_l4                (not supported)\n",
      "ggml_metal_init: skipping kernel_mul_mv_bf16_bf16                  (not supported)\n",
      "ggml_metal_init: skipping kernel_mul_mv_id_bf16_f32                (not supported)\n",
      "ggml_metal_init: skipping kernel_mul_mm_bf16_f32                   (not supported)\n",
      "ggml_metal_init: skipping kernel_mul_mm_id_bf16_f32                (not supported)\n",
      "ggml_metal_init: skipping kernel_flash_attn_ext_bf16_h64           (not supported)\n",
      "ggml_metal_init: skipping kernel_flash_attn_ext_bf16_h80           (not supported)\n",
      "ggml_metal_init: skipping kernel_flash_attn_ext_bf16_h96           (not supported)\n",
      "ggml_metal_init: skipping kernel_flash_attn_ext_bf16_h112          (not supported)\n",
      "ggml_metal_init: skipping kernel_flash_attn_ext_bf16_h128          (not supported)\n",
      "ggml_metal_init: skipping kernel_flash_attn_ext_bf16_h256          (not supported)\n",
      "ggml_metal_init: skipping kernel_flash_attn_ext_vec_bf16_h128      (not supported)\n",
      "ggml_metal_init: skipping kernel_flash_attn_ext_vec_bf16_h256      (not supported)\n",
      "ggml_metal_init: skipping kernel_cpy_f32_bf16                      (not supported)\n",
      "ggml_metal_init: skipping kernel_cpy_bf16_f32                      (not supported)\n",
      "ggml_metal_init: skipping kernel_cpy_bf16_bf16                     (not supported)\n"
     ]
    }
   ],
   "execution_count": 2
  },
  {
   "metadata": {
    "ExecuteTime": {
     "end_time": "2024-12-02T23:03:53.480188Z",
     "start_time": "2024-12-02T23:03:49.902361Z"
    }
   },
   "cell_type": "code",
   "source": [
    "\n",
    "# if you want to adjust the parameters\n",
    "rig2 = RuleInstanceGenerator(\n",
    "    data_directory=\"/Users/yuda/PycharmProjects/EltaBenchmark/benchmark/data_directory/\",\n",
    "    db_file_name=\"db_data.csv\",\n",
    "    rag_threshold=0.5,\n",
    "    max_context_length=1024,\n",
    "    max_new_tokens=512,\n",
    "    n_threads=5\n",
    ")"
   ],
   "id": "a34eaafedc376cee",
   "outputs": [
    {
     "name": "stderr",
     "output_type": "stream",
     "text": [
      "llama_new_context_with_model: n_ctx_per_seq (1024) < n_ctx_train (8192) -- the full capacity of the model will not be utilized\n",
      "ggml_metal_init: skipping kernel_get_rows_bf16                     (not supported)\n",
      "ggml_metal_init: skipping kernel_mul_mv_bf16_f32                   (not supported)\n",
      "ggml_metal_init: skipping kernel_mul_mv_bf16_f32_1row              (not supported)\n",
      "ggml_metal_init: skipping kernel_mul_mv_bf16_f32_l4                (not supported)\n",
      "ggml_metal_init: skipping kernel_mul_mv_bf16_bf16                  (not supported)\n",
      "ggml_metal_init: skipping kernel_mul_mv_id_bf16_f32                (not supported)\n",
      "ggml_metal_init: skipping kernel_mul_mm_bf16_f32                   (not supported)\n",
      "ggml_metal_init: skipping kernel_mul_mm_id_bf16_f32                (not supported)\n",
      "ggml_metal_init: skipping kernel_flash_attn_ext_bf16_h64           (not supported)\n",
      "ggml_metal_init: skipping kernel_flash_attn_ext_bf16_h80           (not supported)\n",
      "ggml_metal_init: skipping kernel_flash_attn_ext_bf16_h96           (not supported)\n",
      "ggml_metal_init: skipping kernel_flash_attn_ext_bf16_h112          (not supported)\n",
      "ggml_metal_init: skipping kernel_flash_attn_ext_bf16_h128          (not supported)\n",
      "ggml_metal_init: skipping kernel_flash_attn_ext_bf16_h256          (not supported)\n",
      "ggml_metal_init: skipping kernel_flash_attn_ext_vec_bf16_h128      (not supported)\n",
      "ggml_metal_init: skipping kernel_flash_attn_ext_vec_bf16_h256      (not supported)\n",
      "ggml_metal_init: skipping kernel_cpy_f32_bf16                      (not supported)\n",
      "ggml_metal_init: skipping kernel_cpy_bf16_f32                      (not supported)\n",
      "ggml_metal_init: skipping kernel_cpy_bf16_bf16                     (not supported)\n"
     ]
    }
   ],
   "execution_count": 3
  },
  {
   "metadata": {},
   "cell_type": "markdown",
   "source": "## adding new rule type",
   "id": "4c7de192b58db569"
  },
  {
   "metadata": {
    "ExecuteTime": {
     "end_time": "2024-12-02T23:03:53.692011Z",
     "start_time": "2024-12-02T23:03:53.480929Z"
    }
   },
   "cell_type": "code",
   "source": [
    "# return True or False\n",
    "succeed = rig.new_rule_type('system_failure_file.json')  # loading from file\n",
    "\n",
    "if succeed:\n",
    "    print(\"rule type added successfully\")\n",
    "else:\n",
    "    print(\"error! failed to add the rule_type\")"
   ],
   "id": "cc6543c849806ebf",
   "outputs": [
    {
     "name": "stdout",
     "output_type": "stream",
     "text": [
      "rule type added successfully\n"
     ]
    }
   ],
   "execution_count": 4
  },
  {
   "metadata": {
    "ExecuteTime": {
     "end_time": "2024-12-02T23:03:53.742069Z",
     "start_time": "2024-12-02T23:03:53.693498Z"
    }
   },
   "cell_type": "code",
   "source": [
    "import json\n",
    "with open('system_failure_file.json', 'r') as file:\n",
    "    rule_type_dict = json.load(file)\n",
    "\n",
    "succeed = rig.new_rule_type(rule_type_dict)  # loading from dict\n",
    "\n",
    "\n",
    "if succeed:\n",
    "    print(\"rule type added successfully\")\n",
    "else:\n",
    "    print(\"error! failed to add the rule_type\")"
   ],
   "id": "a1c63b813c0f7c5e",
   "outputs": [
    {
     "name": "stdout",
     "output_type": "stream",
     "text": [
      "rule type added successfully\n"
     ]
    }
   ],
   "execution_count": 5
  },
  {
   "metadata": {
    "ExecuteTime": {
     "end_time": "2024-12-02T23:03:53.746657Z",
     "start_time": "2024-12-02T23:03:53.742776Z"
    }
   },
   "cell_type": "code",
   "source": [
    "# get list of existing rule types:\n",
    "rig.get_rule_types()"
   ],
   "id": "40f11096719ee8f8",
   "outputs": [
    {
     "data": {
      "text/plain": [
       "['missile malfunction',\n",
       " 'tactical error',\n",
       " 'missile failure',\n",
       " 'launch failure',\n",
       " 'platoon report',\n",
       " 'moral failure',\n",
       " 'encryption flaw',\n",
       " 'espionage suspect',\n",
       " 'corruption scandal',\n",
       " 'betrayal risk',\n",
       " 'leadership breakdown',\n",
       " 'radar error monitoring',\n",
       " 'personnel sabotage',\n",
       " 'satellite disruption',\n",
       " 'bomb failure',\n",
       " 'defection threat',\n",
       " 'attack overview',\n",
       " 'fire control',\n",
       " 'disloyal soldier',\n",
       " 'equipment malfunction',\n",
       " 'command incompetence',\n",
       " 'supply shortage',\n",
       " 'system failure',\n",
       " 'covert agent',\n",
       " 'suspected person']"
      ]
     },
     "execution_count": 6,
     "metadata": {},
     "output_type": "execute_result"
    }
   ],
   "execution_count": 6
  },
  {
   "metadata": {},
   "cell_type": "markdown",
   "source": "## get rule instance from free text",
   "id": "af0758f5e833cca9"
  },
  {
   "metadata": {
    "ExecuteTime": {
     "end_time": "2024-12-02T23:04:49.843628Z",
     "start_time": "2024-12-02T23:04:46.722674Z"
    }
   },
   "cell_type": "code",
   "source": [
    "free_text = \"Alright, let's dive in. We're looking at 'Exploitation Scenario 789'. The crux of the matter is, there's this individual, going by the ID 'XYZ789', who's been involved in an exploitation failure. The level of seriousness? I'd estimate about three. The breach? Fairness. Not good, not good at all. When did we spot this? Well, the detection time isn't clear. And the context? Personal. Yes, it's a pretty serious situation\"\n",
    "\n",
    "response = rig.get_rule_instance(free_text) # return dictionary"
   ],
   "id": "d41d9ff66ad84cda",
   "outputs": [],
   "execution_count": 12
  },
  {
   "metadata": {
    "ExecuteTime": {
     "end_time": "2024-12-02T23:04:00.379437Z",
     "start_time": "2024-12-02T23:04:00.376570Z"
    }
   },
   "cell_type": "code",
   "source": "response.keys()",
   "id": "291f52e6d13fea73",
   "outputs": [
    {
     "data": {
      "text/plain": [
       "dict_keys(['rule_instance', 'error', 'error_message', 'free_text', 'type_name', 'rag_score', 'model_response', 'schema', 'time', 'inference_time'])"
      ]
     },
     "execution_count": 8,
     "metadata": {},
     "output_type": "execute_result"
    }
   ],
   "execution_count": 8
  },
  {
   "metadata": {
    "ExecuteTime": {
     "end_time": "2024-12-02T23:04:00.382864Z",
     "start_time": "2024-12-02T23:04:00.380187Z"
    }
   },
   "cell_type": "code",
   "source": "response[\"rule_instance\"] # the package response",
   "id": "6dbad012ab6f1195",
   "outputs": [
    {
     "data": {
      "text/plain": [
       "{'_id': '00000000-0000-0000-0000-000000000000',\n",
       " 'description': 'string',\n",
       " 'isActive': True,\n",
       " 'lastUpdateTime': '00/00/0000 00:00:00',\n",
       " 'params': {'individualID': 'XYZ789',\n",
       "  'failureType': 'Fairness',\n",
       "  'detectionTime': 'null',\n",
       "  'ethicalViolation': 'null',\n",
       "  'context': 'Personal'},\n",
       " 'ruleInstanceName': 'Exploitation Scenario 789',\n",
       " 'severity': 3,\n",
       " 'ruleType': 'structured',\n",
       " 'ruleOwner': '',\n",
       " 'ruleTypeId': '7a2f6c94-2b4f-4d9d-8a77-d11f7c7cc8fc',\n",
       " 'eventDetails': [{'objectName': 'Moral',\n",
       "   'objectDescription': None,\n",
       "   'timeWindowInMilliseconds': 0,\n",
       "   'useLatest': False}],\n",
       " 'additionalInformation': {},\n",
       " 'presetId': '00000000-0000-0000-0000-000000000000'}"
      ]
     },
     "execution_count": 9,
     "metadata": {},
     "output_type": "execute_result"
    }
   ],
   "execution_count": 9
  },
  {
   "metadata": {
    "ExecuteTime": {
     "end_time": "2024-12-02T23:04:00.385605Z",
     "start_time": "2024-12-02T23:04:00.383684Z"
    }
   },
   "cell_type": "code",
   "source": [
    "# giving us feedback on the response. it will help us to improve the project. it stores in .logs file, without internet connection.\n",
    "rig.feedback(True)  # or 0.8, or what ever you can  "
   ],
   "id": "1fd6dbf5fae064c9",
   "outputs": [
    {
     "name": "stdout",
     "output_type": "stream",
     "text": [
      "thank you :)\n"
     ]
    }
   ],
   "execution_count": 10
  },
  {
   "metadata": {},
   "cell_type": "markdown",
   "source": [
    "## using the GUI\n",
    "very basic, work only with the globals file constant"
   ],
   "id": "b481d837f9f01dc3"
  },
  {
   "metadata": {
    "ExecuteTime": {
     "end_time": "2024-12-02T23:04:00.387761Z",
     "start_time": "2024-12-02T23:04:00.386351Z"
    }
   },
   "cell_type": "code",
   "source": [
    "# from RIG.src.Utils.GUI import run_gui\n",
    "# run_gui()"
   ],
   "id": "e125ccc9f3fcbaa1",
   "outputs": [],
   "execution_count": 11
  }
 ],
 "metadata": {
  "kernelspec": {
   "display_name": "Python 3",
   "language": "python",
   "name": "python3"
  },
  "language_info": {
   "codemirror_mode": {
    "name": "ipython",
    "version": 2
   },
   "file_extension": ".py",
   "mimetype": "text/x-python",
   "name": "python",
   "nbconvert_exporter": "python",
   "pygments_lexer": "ipython2",
   "version": "2.7.6"
  }
 },
 "nbformat": 4,
 "nbformat_minor": 5
}
