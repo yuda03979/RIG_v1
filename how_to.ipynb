{
 "cells": [
  {
   "cell_type": "code",
   "id": "initial_id",
   "metadata": {
    "collapsed": true,
    "ExecuteTime": {
     "end_time": "2024-12-16T11:52:42.340957Z",
     "start_time": "2024-12-16T11:52:36.845566Z"
    }
   },
   "source": "from RIG import RuleInstanceGenerator",
   "outputs": [
    {
     "name": "stderr",
     "output_type": "stream",
     "text": [
      "/home/mefathim/.local/lib/python3.10/site-packages/tqdm/auto.py:21: TqdmWarning: IProgress not found. Please update jupyter and ipywidgets. See https://ipywidgets.readthedocs.io/en/stable/user_install.html\n",
      "  from .autonotebook import tqdm as notebook_tqdm\n",
      "2024-12-16 13:52:40.230109: I tensorflow/core/platform/cpu_feature_guard.cc:193] This TensorFlow binary is optimized with oneAPI Deep Neural Network Library (oneDNN) to use the following CPU instructions in performance-critical operations:  AVX2 FMA\n",
      "To enable them in other operations, rebuild TensorFlow with the appropriate compiler flags.\n",
      "2024-12-16 13:52:40.393212: W tensorflow/compiler/xla/stream_executor/platform/default/dso_loader.cc:64] Could not load dynamic library 'libcudart.so.11.0'; dlerror: libcudart.so.11.0: cannot open shared object file: No such file or directory\n",
      "2024-12-16 13:52:40.393234: I tensorflow/compiler/xla/stream_executor/cuda/cudart_stub.cc:29] Ignore above cudart dlerror if you do not have a GPU set up on your machine.\n",
      "2024-12-16 13:52:41.280038: W tensorflow/compiler/xla/stream_executor/platform/default/dso_loader.cc:64] Could not load dynamic library 'libnvinfer.so.7'; dlerror: libnvinfer.so.7: cannot open shared object file: No such file or directory\n",
      "2024-12-16 13:52:41.280136: W tensorflow/compiler/xla/stream_executor/platform/default/dso_loader.cc:64] Could not load dynamic library 'libnvinfer_plugin.so.7'; dlerror: libnvinfer_plugin.so.7: cannot open shared object file: No such file or directory\n",
      "2024-12-16 13:52:41.280145: W tensorflow/compiler/tf2tensorrt/utils/py_utils.cc:38] TF-TRT Warning: Cannot dlopen some TensorRT libraries. If you would like to use Nvidia GPU with TensorRT, please make sure the missing libraries mentioned above are installed properly.\n"
     ]
    }
   ],
   "execution_count": 1
  },
  {
   "metadata": {
    "ExecuteTime": {
     "end_time": "2024-12-16T11:53:00.336650Z",
     "start_time": "2024-12-16T11:52:58.292766Z"
    }
   },
   "cell_type": "code",
   "source": [
    "rig = RuleInstanceGenerator(\n",
    "    project_directory=\"/home/mefathim/PycharmProjects/RIG_v4/project_directory\",  # required\n",
    "    gpt_model_path=\"/home/mefathim/PycharmProjects/RIG_v2/benchmark/data_directory/gemma-2-2b-it-Q8_0.gguf\", # required\n",
    "    rag_model_path=\"/home/mefathim/PycharmProjects/bge-m3\", # required\n",
    "    rule_types_directory=\"\", # optional. if you want to load rule-types from directory.\n",
    "    rag_threshold=0.5, # oprional\n",
    "    max_context_length=1024, # optional\n",
    "    max_new_tokens=160, # optional\n",
    "    n_threads=5, # optional\n",
    "    for_eval = False\n",
    ")"
   ],
   "id": "a8d89b711cd268a1",
   "outputs": [],
   "execution_count": 2
  },
  {
   "metadata": {
    "ExecuteTime": {
     "end_time": "2024-12-16T11:53:00.355319Z",
     "start_time": "2024-12-16T11:53:00.347560Z"
    }
   },
   "cell_type": "code",
   "source": [
    "# get list of existing rule types:\n",
    "rig.get_rule_types_names()"
   ],
   "id": "40f11096719ee8f8",
   "outputs": [
    {
     "data": {
      "text/plain": [
       "['trolley',\n",
       " 'piranha',\n",
       " 'patrol police',\n",
       " 'hedgehog',\n",
       " 'grasshopper',\n",
       " 'canoe',\n",
       " 'dolphin',\n",
       " 'husky',\n",
       " 'mantis',\n",
       " 'kayak',\n",
       " 'x4x4_off_road_car',\n",
       " 'rabbit',\n",
       " 'cow',\n",
       " 'chef',\n",
       " 'aerial_dogfight',\n",
       " 'church',\n",
       " 'graphic_designer',\n",
       " 'hamster',\n",
       " 'bayonet_charge',\n",
       " 'net_gun',\n",
       " 'rooster',\n",
       " 'guerrilla_skirmish',\n",
       " 'scimitar',\n",
       " 'halberd',\n",
       " 'bow',\n",
       " 'tank_advance',\n",
       " 'nurse',\n",
       " 'journalist',\n",
       " 'trench_assault']"
      ]
     },
     "execution_count": 3,
     "metadata": {},
     "output_type": "execute_result"
    }
   ],
   "execution_count": 3
  },
  {
   "metadata": {},
   "cell_type": "markdown",
   "source": "## get rule instance from free text",
   "id": "af0758f5e833cca9"
  },
  {
   "metadata": {
    "ExecuteTime": {
     "end_time": "2024-12-16T11:53:02.108047Z",
     "start_time": "2024-12-16T11:53:01.379583Z"
    }
   },
   "cell_type": "code",
   "source": "rig.init_gemma_model(max_context_length=1024 + 512)",
   "id": "935789e3a7f1260d",
   "outputs": [
    {
     "data": {
      "text/plain": [
       "True"
      ]
     },
     "execution_count": 4,
     "metadata": {},
     "output_type": "execute_result"
    }
   ],
   "execution_count": 4
  },
  {
   "metadata": {
    "ExecuteTime": {
     "end_time": "2024-12-16T11:53:37.259381Z",
     "start_time": "2024-12-16T11:53:02.738226Z"
    }
   },
   "cell_type": "code",
   "source": [
    "free_text = \"An instance of Recreational Water Sport Guideline needs to be created, dealing with the type of water sport that uses rowing as a paddles function. The surfboard used in the sport is made out of wood. However, the swimming system of the sport is quite complex, let's say something like two methods. The function of the wheel in this sport is to provide transport, and the severity of the event is one.\"\n",
    "\n",
    "response = rig.get_rule_instance(free_text) # return dictionary"
   ],
   "id": "d41d9ff66ad84cda",
   "outputs": [
    {
     "name": "stdout",
     "output_type": "stream",
     "text": [
      "kayak\n",
      "Log file is empty or does not exist.\n",
      "prompt = \n",
      "    Extract information from the provided text and format it according to the given JSON schema. Follow these strict guidelines:\n",
      "    1. **Only use fields explicitly listed in the schema below.** Ignore any fields mentioned in the text or context that are not in the schema.\n",
      "    2. **Do not add or infer fields.** If a field is not mentioned in the schema, it must be excluded from the output.\n",
      "    3. **For missing fields in the schema, set their value to \"null\" (with quotes).**\n",
      "\n",
      "    ### Schema:\n",
      "    {'Seats': 'Int', 'Paddles function': 'String', 'Surfboard material': 'string', 'Swimming system': 'Int', 'Wheel function': 'string', 'ruleInstanceName': 'string', 'severity': 'int'}\n",
      "\n",
      "    ### Examples:\n",
      "    \n",
      "### Example 1:\n",
      "Free text:\n",
      "\"Please generate a Weather Alert - other for area code 2001. Alert type is Thunderstorm. Intensity: severe. Urgency: high. Ignore the forecast source for now. The duration of this case, I'd say, is around two. severity is empty or unclear\"\n",
      "Schema:\n",
      "{\n",
      "    \"alertType\": \"string\",\n",
      "    \"areaCode\": \"int\",\n",
      "    \"intensity\": \"string\",\n",
      "    \"urgency\": \"string\",\n",
      "    \"forecastSource\": \"string\",\n",
      "    \"duration\": \"int\",\n",
      "    \"ruleInstanceName\": \"string\",\n",
      "    \"severity\": \"int\"\n",
      "}\n",
      "Output:\n",
      "{\n",
      "    \"alertType\": \"Thunderstorm\",\n",
      "    \"areaCode\": 2001,\n",
      "    \"intensity\": \"severe\",\n",
      "    \"urgency\": \"high\",\n",
      "    \"forecastSource\": \"null\",\n",
      "    \"duration\": 2,\n",
      "    \"ruleInstanceName\": \"Weather Alert - other\",\n",
      "    \"severity\": \"null\"\n",
      "}\n",
      "\n",
      "### Example 2 :\n",
      "Free text:\n",
      "\"Add a report for 'Shell Delay'. Equipment Malfunction case. Type: shell. Site is not important. Malfunction at level five, urgency four. Desc: Detonation delayed in poland Severity i think 3.\"\n",
      "Schema:\n",
      "{\n",
      "    \"type\": \"string\",\n",
      "    \"site\": \"string\",\n",
      "    \"malfunctionLevel\": \"int\",\n",
      "    \"urgency\": \"int\",\n",
      "    \"description\": \" string\",\n",
      "    \"ruleInstanceName\": \"string\",\n",
      "    \"severity\": \"int\"\n",
      "}\n",
      "Output:\n",
      "{\n",
      "    \"type\": \"shell\",\n",
      "    \"site\": \"empty\",\n",
      "    \"malfunctionLevel\": 5,\n",
      "    \"urgency\": 4,\n",
      "    \"description\": \"Detonation delayed in poland\",\n",
      "    \"ruleInstanceName\": \"Equipment Malfunction - Shell Delay\",\n",
      "    \"severity\": 3\n",
      "}\n",
      "        \n",
      "    ---\n",
      "\n",
      "    ### Context (do not use for filling fields, only as reference for the schema):\n",
      "    {'Seats_description': '', 'Paddles function_description': \"Allowed answers: 'rowing', 'steering', or 'braking'\", 'Surfboard material_description': \"Allowed answers: 'wood', 'plastic', 'carbon fiber'\", 'Swimming system_description': '', 'Wheel function_description': \"Allowed answers: 'transport', 'stability', 'maneuverability'\", 'ruleInstanceName_description': 'about what the message and to what it related in the db.', 'severity_description': 'level of importance, criticality, or risk.', 'event details': {'global description': '', 'object name': 'Kayak'}}\n",
      "\n",
      "    ---\n",
      "    ### Task:\n",
      "    - Free text: An instance of Recreational Water Sport Guideline needs to be created, dealing with the type of water sport that uses rowing as a paddles function. The surfboard used in the sport is made out of wood. However, the swimming system of the sport is quite complex, let's say something like two methods. The function of the wheel in this sport is to provide transport, and the severity of the event is one.\n",
      "    - Output:\n",
      "    \n",
      "Logged question and answer: An instance of Recreational Water Sport Guideline needs to be created, dealing with the type of water sport that uses rowing as a paddles function. The surfboard used in the sport is made out of wood. However, the swimming system of the sport is quite complex, let's say something like two methods. The function of the wheel in this sport is to provide transport, and the severity of the event is one.\n"
     ]
    }
   ],
   "execution_count": 5
  },
  {
   "metadata": {
    "ExecuteTime": {
     "end_time": "2024-12-16T10:39:00.943574Z",
     "start_time": "2024-12-16T10:39:00.937228Z"
    }
   },
   "cell_type": "code",
   "source": "response.keys()",
   "id": "291f52e6d13fea73",
   "outputs": [
    {
     "data": {
      "text/plain": [
       "dict_keys(['rule_instance', 'is_error', 'error_message', 'free_text', 'type_name', 'rag_score', 'model_response', 'examples', 'schema', 'time', 'inference_time'])"
      ]
     },
     "execution_count": 6,
     "metadata": {},
     "output_type": "execute_result"
    }
   ],
   "execution_count": 6
  },
  {
   "metadata": {
    "ExecuteTime": {
     "end_time": "2024-12-16T11:55:52.353668Z",
     "start_time": "2024-12-16T11:55:52.345817Z"
    }
   },
   "cell_type": "code",
   "source": "response # the package response\n",
   "id": "6dbad012ab6f1195",
   "outputs": [
    {
     "data": {
      "text/plain": [
       "{'rule_instance': {'_id': '00000000-0000-0000-0000-000000000000',\n",
       "  'description': 'string',\n",
       "  'isActive': True,\n",
       "  'lastUpdateTime': '00/00/0000 00:00:00',\n",
       "  'params': {'Seats': 'null',\n",
       "   'Paddles function': 'rowing',\n",
       "   'Surfboard material': 'wood',\n",
       "   'Swimming system': 2,\n",
       "   'Wheel function': 'transport'},\n",
       "  'ruleInstanceName': 'Recreational Water Sport Guideline - Rowing',\n",
       "  'severity': 1,\n",
       "  'ruleType': 'structured',\n",
       "  'ruleOwner': '',\n",
       "  'ruleTypeId': '0a14dd4c-7f4b-40bc-bfb3-ffa7c2f3ce47',\n",
       "  'eventDetails': [{'objectName': 'Kayak',\n",
       "    'objectDescription': None,\n",
       "    'timeWindowInMilliseconds': 0,\n",
       "    'useLatest': False}],\n",
       "  'additionalInformation': {},\n",
       "  'presetId': '00000000-0000-0000-0000-000000000000'},\n",
       " 'is_error': False,\n",
       " 'error_message': '',\n",
       " 'free_text': \"An instance of Recreational Water Sport Guideline needs to be created, dealing with the type of water sport that uses rowing as a paddles function. The surfboard used in the sport is made out of wood. However, the swimming system of the sport is quite complex, let's say something like two methods. The function of the wheel in this sport is to provide transport, and the severity of the event is one.\",\n",
       " 'type_name': 'kayak',\n",
       " 'rag_score': 0.6657393869396075,\n",
       " 'model_response': '{\\n        \"Seats\": null,\\n        \"Paddles function\": \"rowing\",\\n        \"Surfboard material\": \"wood\",\\n        \"Swimming system\": 2,\\n        \"Wheel function\": \"transport\",\\n        \"ruleInstanceName\": \"Recreational Water Sport Guideline - Rowing\",\\n        \"severity\": 1 \\n    }',\n",
       " 'examples': {'example_1': {'free_text': None},\n",
       "  'example_2': {'free_text': None}},\n",
       " 'schema': {'Seats': 'Int',\n",
       "  'Paddles function': 'String',\n",
       "  'Surfboard material': 'string',\n",
       "  'Swimming system': 'Int',\n",
       "  'Wheel function': 'string',\n",
       "  'ruleInstanceName': 'string',\n",
       "  'severity': 'int'},\n",
       " 'time': '2024-12-16|13:53:36',\n",
       " 'inference_time': 34.17547297477722}"
      ]
     },
     "execution_count": 6,
     "metadata": {},
     "output_type": "execute_result"
    }
   ],
   "execution_count": 6
  },
  {
   "metadata": {
    "ExecuteTime": {
     "end_time": "2024-12-16T10:57:09.280783Z",
     "start_time": "2024-12-16T10:56:19.950050Z"
    }
   },
   "cell_type": "code",
   "source": "rig.add_rule_types_from_folder(\"/home/mefathim/PycharmProjects/RIG_v4/evaluation/data/rule_types/46_ruletypes\")",
   "id": "f9edb1d6354f2689",
   "outputs": [
    {
     "name": "stdout",
     "output_type": "stream",
     "text": [
      "rule_types_loaded: ['Rabbit.json', 'Cow.json', 'Chef.json', 'Aerial_Dogfight.json', 'Church.json', 'Graphic_Designer.json', 'Hamster.json', 'Bayonet_Charge.json', 'Net_Gun.json', 'Rooster.json', 'Guerrilla_Skirmish.json', 'Scimitar.json', 'Halberd.json', 'Bow.json', 'Tank_Advance.json', 'Nurse.json', 'Journalist.json', 'Canoe.json', 'Trench_Assault.json', 'Fox.json', 'Battlefield_Retreat.json', 'Gauntlet_Knife.json', 'Beaver.json', 'Koala.json', 'Conveyor.json', 'Ambush.json', 'Hospital.json', 'Hotel.json', 'Bridge.json', 'Artillery_Strike.json', 'Axe.json', 'Goldfish.json', 'School.json', 'x4X4_Off_Road_Car.json', 'Sabre.json', 'Tentacled_Sea_Cucumber.json', 'Ballista.json', 'Sea_Otter.json', 'Mechanic.json', 'Poodle.json', 'Data_Analyst.json', 'Cavalry_Charge.json', 'Farmer.json', 'Paratrooper_Drop.json', 'Phoenix_Fish.json', 'Gondola.json', 'Ambulance.json', 'Personal_Trainer.json', 'Counteroffensive.json', 'Cannon.json', 'Boomerang.json', 'Minefield_Deployment.json', 'Naval_Bombardment.json', 'Blowgun.json', 'Library.json', 'Pangolin.json', 'Vulture.json', 'Scientist.json', 'ATV.json', 'Police_Officer.json', 'Tarantula.json', 'Morning_Star.json', 'Air_Strike.json', 'Electrician.json', 'Trolley.json', 'Castle.json', 'Event_Planner.json', 'Robot.json', 'Electric_Train.json', 'Software_Developer.json', 'Airship_Vehicle.json', 'Trident.json', 'Apartment_Building.json', 'Dentist.json', 'Photographer.json', 'Flail.json', 'Goliath_Frog.json', 'Chakram.json', 'Plumber.json', 'Urban_Public_Transport_System.json', 'Bull.json', 'Beetle.json', 'Multi_Motor_Trampoline.json', 'Rapier.json', 'Evacuation_Operation.json', 'Kangaroo.json', 'Sniper_Attack.json', 'Actor.json', 'Architect.json', 'Engineer.json', 'Kestrel.json', 'Kayak.json', 'Mall.json', 'Carpenter.json', 'Swan.json', 'Katana.json', 'Pilot.json', 'Puffin.json', 'Flanking_Maneuver.json', 'Bastard_Sword.json', 'Barista.json', 'Siege.json', 'Mole.json', 'Molotov_Cocktail.json', 'Night_Raid.json', 'Wildcat.json', 'Parrotfish.json', 'Warehouse.json', 'Cottage.json', 'Platypus.json', 'Firefighter.json', 'Komodo_Dragon.json', 'Shuriken.json', 'Factory.json', 'Anglerfish.json', 'Museum.json', 'Psychologist.json', 'Lawyer.json', 'Teacher.json', 'Scythe.json']\n"
     ]
    },
    {
     "data": {
      "text/plain": [
       "\"rule_types_loaded: ['Rabbit.json', 'Cow.json', 'Chef.json', 'Aerial_Dogfight.json', 'Church.json', 'Graphic_Designer.json', 'Hamster.json', 'Bayonet_Charge.json', 'Net_Gun.json', 'Rooster.json', 'Guerrilla_Skirmish.json', 'Scimitar.json', 'Halberd.json', 'Bow.json', 'Tank_Advance.json', 'Nurse.json', 'Journalist.json', 'Canoe.json', 'Trench_Assault.json', 'Fox.json', 'Battlefield_Retreat.json', 'Gauntlet_Knife.json', 'Beaver.json', 'Koala.json', 'Conveyor.json', 'Ambush.json', 'Hospital.json', 'Hotel.json', 'Bridge.json', 'Artillery_Strike.json', 'Axe.json', 'Goldfish.json', 'School.json', 'x4X4_Off_Road_Car.json', 'Sabre.json', 'Tentacled_Sea_Cucumber.json', 'Ballista.json', 'Sea_Otter.json', 'Mechanic.json', 'Poodle.json', 'Data_Analyst.json', 'Cavalry_Charge.json', 'Farmer.json', 'Paratrooper_Drop.json', 'Phoenix_Fish.json', 'Gondola.json', 'Ambulance.json', 'Personal_Trainer.json', 'Counteroffensive.json', 'Cannon.json', 'Boomerang.json', 'Minefield_Deployment.json', 'Naval_Bombardment.json', 'Blowgun.json', 'Library.json', 'Pangolin.json', 'Vulture.json', 'Scientist.json', 'ATV.json', 'Police_Officer.json', 'Tarantula.json', 'Morning_Star.json', 'Air_Strike.json', 'Electrician.json', 'Trolley.json', 'Castle.json', 'Event_Planner.json', 'Robot.json', 'Electric_Train.json', 'Software_Developer.json', 'Airship_Vehicle.json', 'Trident.json', 'Apartment_Building.json', 'Dentist.json', 'Photographer.json', 'Flail.json', 'Goliath_Frog.json', 'Chakram.json', 'Plumber.json', 'Urban_Public_Transport_System.json', 'Bull.json', 'Beetle.json', 'Multi_Motor_Trampoline.json', 'Rapier.json', 'Evacuation_Operation.json', 'Kangaroo.json', 'Sniper_Attack.json', 'Actor.json', 'Architect.json', 'Engineer.json', 'Kestrel.json', 'Kayak.json', 'Mall.json', 'Carpenter.json', 'Swan.json', 'Katana.json', 'Pilot.json', 'Puffin.json', 'Flanking_Maneuver.json', 'Bastard_Sword.json', 'Barista.json', 'Siege.json', 'Mole.json', 'Molotov_Cocktail.json', 'Night_Raid.json', 'Wildcat.json', 'Parrotfish.json', 'Warehouse.json', 'Cottage.json', 'Platypus.json', 'Firefighter.json', 'Komodo_Dragon.json', 'Shuriken.json', 'Factory.json', 'Anglerfish.json', 'Museum.json', 'Psychologist.json', 'Lawyer.json', 'Teacher.json', 'Scythe.json']\""
      ]
     },
     "execution_count": 4,
     "metadata": {},
     "output_type": "execute_result"
    }
   ],
   "execution_count": 4
  },
  {
   "metadata": {
    "ExecuteTime": {
     "end_time": "2024-12-11T18:18:41.647417Z",
     "start_time": "2024-12-11T18:18:41.639392Z"
    }
   },
   "cell_type": "code",
   "source": [
    "# giving us feedback on the response. it will help us to improve the project. it stores in .logs file, without internet connection.\n",
    "rig.feedback(True)  # or 0.8, or what ever you can  "
   ],
   "id": "1fd6dbf5fae064c9",
   "outputs": [
    {
     "data": {
      "text/plain": [
       "'thank you :)'"
      ]
     },
     "execution_count": 8,
     "metadata": {},
     "output_type": "execute_result"
    }
   ],
   "execution_count": 8
  },
  {
   "metadata": {},
   "cell_type": "markdown",
   "source": "# now you can run the evaluation:",
   "id": "e347cadf3211cca9"
  },
  {
   "metadata": {
    "ExecuteTime": {
     "end_time": "2024-12-11T20:59:07.661023Z",
     "start_time": "2024-12-11T20:59:04.966466Z"
    }
   },
   "cell_type": "code",
   "source": [
    "rig.evaluate(\n",
    "    data_dile_path=\"/home/mefathim/PycharmProjects/RIG_v4/evaluation/data/data_yuda.csv\",\n",
    "    output_directory=\"/home/mefathim/PycharmProjects/RIG_v4/evaluation/output\",\n",
    "    start_point = 0,\n",
    "    end_point = 1, # None = all the data\n",
    "    sleep_time_each_10_iter = 30\n",
    ")"
   ],
   "id": "3a636acd65e09e7b",
   "outputs": [
    {
     "name": "stderr",
     "output_type": "stream",
     "text": [
      "  0%|          | 0/1 [00:00<?, ?it/s]"
     ]
    },
    {
     "name": "stdout",
     "output_type": "stream",
     "text": [
      "0\n"
     ]
    },
    {
     "name": "stderr",
     "output_type": "stream",
     "text": [
      "100%|██████████| 1/1 [00:02<00:00,  2.60s/it]"
     ]
    },
    {
     "name": "stdout",
     "output_type": "stream",
     "text": [
      "error:  {'rule_instance': None, 'is_error': True, 'error_message': \"Processing failed: AttributeError, 'NoneType' object has no attribute 'predict'\", 'free_text': \"Hold on a minute! You're saying that an Intelligence Operative has defected for Personal Gain, and it's only classified as severity three? That's preposterous! How is that feasible? How is it that such a significant move has such a low severity rating? And the threat level is just High? That's quite serious, but only High? Are they really terming it as just 'defection threat Critical Situation'? That doesn't make any sense at all. I thought defection of such a high profile operative would be much worse than this. The severity rating is just... a three? Are you certain about this? This doesn't seem to reconcile at all. How can an event of this magnitude be so low on the scale? It seems like they're trivializing the whole situation. 'defection threat Critical Situation' doesn't even seem to align with the situation at hand. Why is it being minimized this much? I can't fathom this is the official response to such a significant event. We need to reassess how these situations are being classified.\", 'type_name': None, 'rag_score': None, 'model_response': None, 'schema': None, 'time': '2024-12-11|22:59:07', 'inference_time': 2.593899726867676}\n",
      "error\n",
      "without classification mistakes: \n",
      "\n",
      "Average Accuracy Metrics:\n",
      "binary_score: nan%\n",
      "binary_score_no_instance_name: nan%\n",
      "param_numerical_binary_score: nan%\n",
      "param_numerical_avg_score: nan%\n",
      "param_verbal_binary_score: nan%\n",
      "param_verbal_avg_score: nan%\n",
      "score_rule_instance_name: nan%\n",
      "classification score: nan%\n",
      "with all the data: \n",
      "\n",
      "Average Accuracy Metrics:\n",
      "binary_score: 0.00%\n",
      "binary_score_no_instance_name: 0.00%\n",
      "param_numerical_binary_score: 0.00%\n",
      "param_numerical_avg_score: 0.00%\n",
      "param_verbal_binary_score: 0.00%\n",
      "param_verbal_avg_score: 0.00%\n",
      "score_rule_instance_name: 0.00%\n",
      "classification score: 0.00%\n"
     ]
    },
    {
     "name": "stderr",
     "output_type": "stream",
     "text": [
      "\n"
     ]
    }
   ],
   "execution_count": 3
  },
  {
   "metadata": {},
   "cell_type": "markdown",
   "source": [
    "## using the GUI\n",
    "very basic, work only with the globals file constant"
   ],
   "id": "b481d837f9f01dc3"
  },
  {
   "metadata": {
    "ExecuteTime": {
     "end_time": "2024-12-09T09:53:32.135378Z",
     "start_time": "2024-12-09T09:53:32.133832Z"
    }
   },
   "cell_type": "code",
   "source": [
    "# from RIG.src.Utils.GUI import run_gui\n",
    "# run_gui()"
   ],
   "id": "e125ccc9f3fcbaa1",
   "outputs": [],
   "execution_count": 10
  }
 ],
 "metadata": {
  "kernelspec": {
   "display_name": "Python 3",
   "language": "python",
   "name": "python3"
  },
  "language_info": {
   "codemirror_mode": {
    "name": "ipython",
    "version": 2
   },
   "file_extension": ".py",
   "mimetype": "text/x-python",
   "name": "python",
   "nbconvert_exporter": "python",
   "pygments_lexer": "ipython2",
   "version": "2.7.6"
  }
 },
 "nbformat": 4,
 "nbformat_minor": 5
}
