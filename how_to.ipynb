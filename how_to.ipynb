{
 "cells": [
  {
   "metadata": {
    "ExecuteTime": {
     "end_time": "2024-12-18T08:34:19.614452Z",
     "start_time": "2024-12-18T08:34:07.500364Z"
    }
   },
   "cell_type": "code",
   "source": "from RIG import RuleInstanceGenerator",
   "id": "1530efbec086d4a",
   "outputs": [
    {
     "name": "stderr",
     "output_type": "stream",
     "text": [
      "/home/mefathim/.local/lib/python3.10/site-packages/tqdm/auto.py:21: TqdmWarning: IProgress not found. Please update jupyter and ipywidgets. See https://ipywidgets.readthedocs.io/en/stable/user_install.html\n",
      "  from .autonotebook import tqdm as notebook_tqdm\n",
      "2024-12-18 10:34:14.672906: I tensorflow/core/platform/cpu_feature_guard.cc:193] This TensorFlow binary is optimized with oneAPI Deep Neural Network Library (oneDNN) to use the following CPU instructions in performance-critical operations:  AVX2 FMA\n",
      "To enable them in other operations, rebuild TensorFlow with the appropriate compiler flags.\n",
      "2024-12-18 10:34:15.365421: W tensorflow/compiler/xla/stream_executor/platform/default/dso_loader.cc:64] Could not load dynamic library 'libcudart.so.11.0'; dlerror: libcudart.so.11.0: cannot open shared object file: No such file or directory\n",
      "2024-12-18 10:34:15.365446: I tensorflow/compiler/xla/stream_executor/cuda/cudart_stub.cc:29] Ignore above cudart dlerror if you do not have a GPU set up on your machine.\n",
      "2024-12-18 10:34:17.375910: W tensorflow/compiler/xla/stream_executor/platform/default/dso_loader.cc:64] Could not load dynamic library 'libnvinfer.so.7'; dlerror: libnvinfer.so.7: cannot open shared object file: No such file or directory\n",
      "2024-12-18 10:34:17.376031: W tensorflow/compiler/xla/stream_executor/platform/default/dso_loader.cc:64] Could not load dynamic library 'libnvinfer_plugin.so.7'; dlerror: libnvinfer_plugin.so.7: cannot open shared object file: No such file or directory\n",
      "2024-12-18 10:34:17.376041: W tensorflow/compiler/tf2tensorrt/utils/py_utils.cc:38] TF-TRT Warning: Cannot dlopen some TensorRT libraries. If you would like to use Nvidia GPU with TensorRT, please make sure the missing libraries mentioned above are installed properly.\n"
     ]
    }
   ],
   "execution_count": 1
  },
  {
   "metadata": {
    "ExecuteTime": {
     "end_time": "2024-12-18T08:34:24.280462Z",
     "start_time": "2024-12-18T08:34:21.462814Z"
    }
   },
   "cell_type": "code",
   "source": [
    "rig = RuleInstanceGenerator(\n",
    "    project_directory=\"/home/mefathim/PycharmProjects/RIG_v4/project_directory\",  # required\n",
    "    gpt_model_path=\"/home/mefathim/PycharmProjects/RIG_v2/benchmark/data_directory/gemma-2-2b-it-Q8_0.gguf\", # required\n",
    "    rag_model_path=\"/home/mefathim/PycharmProjects/bge-m3\", # required\n",
    "    rule_types_directory=\"\", # optional. if you want to load rule-types from directory.\n",
    "    rag_threshold=0.5, # oprional\n",
    "    max_context_length=1024, # optional\n",
    "    max_new_tokens=160, # optional\n",
    "    n_threads=5, # optional\n",
    "    for_eval = True\n",
    ")"
   ],
   "id": "a8d89b711cd268a1",
   "outputs": [],
   "execution_count": 2
  },
  {
   "metadata": {
    "ExecuteTime": {
     "end_time": "2024-12-18T08:34:31.482740Z",
     "start_time": "2024-12-18T08:34:31.477554Z"
    }
   },
   "cell_type": "code",
   "source": [
    "# get list of existing rule types:\n",
    "rol_typrs = rig.get_rule_types_names()"
   ],
   "id": "40f11096719ee8f8",
   "outputs": [],
   "execution_count": 3
  },
  {
   "metadata": {
    "ExecuteTime": {
     "end_time": "2024-12-18T08:34:32.977683Z",
     "start_time": "2024-12-18T08:34:32.969248Z"
    }
   },
   "cell_type": "code",
   "source": [
    "len(rol_typrs)\n",
    "rol_typrs"
   ],
   "id": "fb60d1bf6d2fe14f",
   "outputs": [
    {
     "data": {
      "text/plain": [
       "['trolley',\n",
       " 'tank_advance',\n",
       " 'poodle',\n",
       " 'naval_bombardment',\n",
       " 'bastard_sword',\n",
       " 'software developer',\n",
       " 'ballista',\n",
       " 'bayonet_charge',\n",
       " 'ambulance',\n",
       " 'nurse',\n",
       " 'fox',\n",
       " 'electric_train',\n",
       " 'trench_assault',\n",
       " 'barista',\n",
       " 'teacher',\n",
       " 'farmer',\n",
       " 'kangaroo',\n",
       " 'goliath frog',\n",
       " 'dentist',\n",
       " 'actor',\n",
       " 'rapier',\n",
       " 'scimitar',\n",
       " 'architect',\n",
       " 'chakram',\n",
       " 'hamster',\n",
       " 'goldfish',\n",
       " 'bull',\n",
       " 'museum',\n",
       " 'bridge',\n",
       " 'platypus',\n",
       " 'bow',\n",
       " 'carpenter',\n",
       " 'psychologist',\n",
       " 'airship_vehicle',\n",
       " 'firefighter',\n",
       " 'parrotfish',\n",
       " 'data_analyst',\n",
       " 'cottage',\n",
       " 'katana',\n",
       " 'axe',\n",
       " 'wildcat',\n",
       " 'gondola',\n",
       " 'siege',\n",
       " 'cannon',\n",
       " 'mechanic',\n",
       " 'blowgun',\n",
       " 'molotov_cocktail',\n",
       " 'pangolin',\n",
       " 'boomerang',\n",
       " 'church',\n",
       " 'trident',\n",
       " 'conveyor',\n",
       " 'scythe',\n",
       " 'chef',\n",
       " 'halberd',\n",
       " 'tentacled_sea_cucumber',\n",
       " 'robot',\n",
       " 'pilot',\n",
       " 'lawyer',\n",
       " 'swan',\n",
       " 'graphic_designer',\n",
       " 'photographer',\n",
       " 'canoe',\n",
       " 'mole',\n",
       " 'vulture',\n",
       " 'police_officer',\n",
       " 'puffin',\n",
       " 'flail',\n",
       " 'anglerfish',\n",
       " 'rooster',\n",
       " 'gauntlet_knife',\n",
       " 'event_planner',\n",
       " 'battlefield_retreat',\n",
       " 'sea_otter',\n",
       " 'koala',\n",
       " 'apartment_building',\n",
       " 'kestrel',\n",
       " 'guerrilla_skirmish',\n",
       " 'aerial_dogfight',\n",
       " 'cavalry_charge',\n",
       " 'cow',\n",
       " 'rabbit',\n",
       " 'scientist',\n",
       " 'beaver',\n",
       " 'sniper_attack',\n",
       " 'atv',\n",
       " 'kayak',\n",
       " 'artillery_strike',\n",
       " 'paratrooper_drop',\n",
       " 'tarantula',\n",
       " 'x4x4_off_road_car',\n",
       " 'journalist',\n",
       " 'castle',\n",
       " 'net_gun',\n",
       " 'beetle',\n",
       " 'morning_star',\n",
       " 'plumber',\n",
       " 'hotel',\n",
       " 'shuriken',\n",
       " 'hospital',\n",
       " 'phoenix fish',\n",
       " 'factory',\n",
       " 'komodo_dragon',\n",
       " 'multi_motor_trampoline',\n",
       " 'sabre',\n",
       " 'evacuation_operation',\n",
       " 'engineer',\n",
       " 'urban_public_transport_system',\n",
       " 'flanking_maneuver']"
      ]
     },
     "execution_count": 4,
     "metadata": {},
     "output_type": "execute_result"
    }
   ],
   "execution_count": 4
  },
  {
   "metadata": {},
   "cell_type": "markdown",
   "source": "## get rule instance from free text",
   "id": "af0758f5e833cca9"
  },
  {
   "metadata": {
    "ExecuteTime": {
     "end_time": "2024-12-18T08:34:41.754861Z",
     "start_time": "2024-12-18T08:34:35.111092Z"
    }
   },
   "cell_type": "code",
   "source": "rig.init_gemma_model(max_context_length=1024 + 512)",
   "id": "935789e3a7f1260d",
   "outputs": [
    {
     "data": {
      "text/plain": [
       "True"
      ]
     },
     "execution_count": 5,
     "metadata": {},
     "output_type": "execute_result"
    }
   ],
   "execution_count": 5
  },
  {
   "metadata": {
    "ExecuteTime": {
     "end_time": "2024-12-18T08:35:36.810385Z",
     "start_time": "2024-12-18T08:34:43.123133Z"
    }
   },
   "cell_type": "code",
   "source": [
    "free_text =     \"A new instance needs to be created for carpentry intermediate level, dealing with the skill set of woodworking and the level is intermediate. The understanding of blueprint reading is good. However, the precision measurement used is something more common, let's say something like feet. The maintenance of tools is done on a regular basis, and the knowledge of material includes wood, plywood, mdf. The design skills in furniture aren't available, and the severity of this instance is two.\"\n",
    "\n",
    "\n",
    "response = rig.get_rule_instance(free_text,\"CarpenterD2Q4\") # return dictionary"
   ],
   "id": "d41d9ff66ad84cda",
   "outputs": [
    {
     "name": "stdout",
     "output_type": "stream",
     "text": [
      "carpenter\n",
      "id = CarpenterD2Q4\n",
      "{'example_1': {'distance': array([0.72697156]), 'free_text': '[\"A case of technician skill assessment needs to be initiated, dealing with the proficiency area of engine troubleshooting. The proficiency level in this area is just, um, average. However, the tool proficiency is a bit higher, let\\'s say something like intermediate. The skill in part replacement is a no, and the efficiency under pressure is medium. The communication skills with customers are good, and the severity of the assessment is two.\"]', 'response': \"{'ruleInstanceName': 'technician skill assessment', 'severity': '2', 'Engine troubleshooting': 'average', 'Tool proficiency': 'intermediate', 'Part replacement': 'no', 'Diagnostic skills': 'null', 'Efficiency under pressure': 'medium', 'Customer communication': 'good'}\", 'response_id': 'MechanicD2Q3', 'type_name': 'Mechanic'}, 'example_2': {'distance': array([0.87661165]), 'free_text': '[\"An instance of carpentry beginner level needs to be created, dealing with the type of woodworking skills as beginner. The level of blueprint reading in the task was just, um, basic. However, the precision measurement was much more, let\\'s say something like inches. The tool maintenance knowledge is null, and the material knowledge is wood, plywood. The design of the furniture is simple, and the severity of the task is one.\"]', 'response': \"{'ruleInstanceName': 'carpentry beginner level', 'severity': '1', 'Woodworking skills': 'beginner', 'Blueprint reading': 'basic', 'Precision measurement': 'inches', 'Tool maintenance': 'null', 'Material knowledge': 'wood, plywood', 'Furniture design': 'simple'}\", 'response_id': 'CarpenterD1Q1', 'type_name': 'Carpenter'}}\n",
      "prompt = \n",
      "    ### Rules:\n",
      "1. Only use fields explicitly listed in the schema below.\n",
      "2. Do not add or infer fields. Fields missing in the schema or text should be set to \"null\".\n",
      "3. Carefully map field names from the schema to the text, even if the phrasing differs.\n",
      "4. Treat words like \"without\", \"unknown\" as \"null\", while \"standard\" \"low\" etc. will return the value.\n",
      "5. Output must match the schema exactly.\n",
      "\n",
      "        ***Be sure to follow these rules***\n",
      "\n",
      "    ### Schema:\n",
      "    {'Woodworking skills': 'String', 'Blueprint reading': 'String', 'Precision measurement': 'String', 'Tool maintenance': 'String', 'Material knowledge': 'String', 'Furniture design': 'String', 'ruleInstanceName': 'string', 'severity': 'int'}\n",
      "\n",
      "    ### Examples:\n",
      "    \n",
      "### Example 1 (Similar Style Example):\n",
      "Schema:\n",
      "{'Engine troubleshooting': 'String', 'Tool proficiency': 'String', 'Part replacement': 'String', 'Diagnostic skills': 'string', 'Efficiency under pressure': 'String', 'Customer communication': 'String', 'ruleInstanceName': 'string', 'severity': 'int'}\n",
      "Free text:\n",
      "[\"A case of technician skill assessment needs to be initiated, dealing with the proficiency area of engine troubleshooting. The proficiency level in this area is just, um, average. However, the tool proficiency is a bit higher, let's say something like intermediate. The skill in part replacement is a no, and the efficiency under pressure is medium. The communication skills with customers are good, and the severity of the assessment is two.\"]\n",
      "Output:\n",
      "{'ruleInstanceName': 'technician skill assessment', 'severity': '2', 'Engine troubleshooting': 'average', 'Tool proficiency': 'intermediate', 'Part replacement': 'no', 'Diagnostic skills': 'null', 'Efficiency under pressure': 'medium', 'Customer communication': 'good'}\n",
      "\n",
      "### Example 2 (Closest Task Match) :\n",
      "Schema:\n",
      "{'Woodworking skills': 'String', 'Blueprint reading': 'String', 'Precision measurement': 'String', 'Tool maintenance': 'String', 'Material knowledge': 'String', 'Furniture design': 'String', 'ruleInstanceName': 'string', 'severity': 'int'}\n",
      "Free text:\n",
      "[\"An instance of carpentry beginner level needs to be created, dealing with the type of woodworking skills as beginner. The level of blueprint reading in the task was just, um, basic. However, the precision measurement was much more, let's say something like inches. The tool maintenance knowledge is null, and the material knowledge is wood, plywood. The design of the furniture is simple, and the severity of the task is one.\"]\n",
      "Output:\n",
      "{'ruleInstanceName': 'carpentry beginner level', 'severity': '1', 'Woodworking skills': 'beginner', 'Blueprint reading': 'basic', 'Precision measurement': 'inches', 'Tool maintenance': 'null', 'Material knowledge': 'wood, plywood', 'Furniture design': 'simple'}\n",
      "\n",
      "\n",
      "### Example 3 (Example for handling empty values):\n",
      "Free text:\n",
      "\"Please generate a Weather Alert - other for area code 2001. Alert type is Thunderstorm. Intensity: severe. Urgency: high. Ignore the forecast source for now. The duration of this case, I'd say, is around two. severity is empty or unclear\"\n",
      "Schema:\n",
      "{\n",
      "    \"alertType\": \"string\",\n",
      "    \"areaCode\": \"int\",\n",
      "    \"intensity\": \"string\",\n",
      "    \"urgency\": \"string\",\n",
      "    \"forecastSource\": \"string\",\n",
      "    \"duration\": \"int\",\n",
      "    \"ruleInstanceName\": \"string\",\n",
      "    \"severity\": \"int\"\n",
      "}\n",
      "Output:\n",
      "{\n",
      "    \"alertType\": \"Thunderstorm\",\n",
      "    \"areaCode\": 2001,\n",
      "    \"intensity\": \"severe\",\n",
      "    \"urgency\": \"high\",\n",
      "    \"forecastSource\": \"null\",\n",
      "    \"duration\": 2,\n",
      "    \"ruleInstanceName\": \"Weather Alert - other\",\n",
      "    \"severity\": \"null\"\n",
      "}\n",
      "\n",
      "        \n",
      "    ---\n",
      "\n",
      "    ### Context (do not use for filling fields, only as reference for the schema):\n",
      "    {'Woodworking skills_description': \"Allowed answers: 'Beginner', 'Intermediate', 'Advanced'\", 'Blueprint reading_description': '', 'Precision measurement_description': \"Allowed answers: 'Inches', 'Feet', 'Millimeters', 'Centimeters'\", 'Tool maintenance_description': '', 'Material knowledge_description': '', 'Furniture design_description': '', 'ruleInstanceName_description': 'about what the message and to what it related in the db.', 'severity_description': 'level of importance, criticality, or risk.', 'event details': {'global description': '', 'object name': 'Carpenter'}}\n",
      "\n",
      "    ---\n",
      "    ### Task:\n",
      "    - Free text: A new instance needs to be created for carpentry intermediate level, dealing with the skill set of woodworking and the level is intermediate. The understanding of blueprint reading is good. However, the precision measurement used is something more common, let's say something like feet. The maintenance of tools is done on a regular basis, and the knowledge of material includes wood, plywood, mdf. The design skills in furniture aren't available, and the severity of this instance is two.\n",
      "    - Output:\n",
      "    \n",
      "```json\n",
      "    {\n",
      "      'ruleInstanceName': 'carpentry intermediate level',\n",
      "      'severity': '2',\n",
      "      'Woodworking skills': 'intermediate',\n",
      "      'Blueprint reading': 'good',\n",
      "      'Precision measurement': 'feet',\n",
      "      'Tool maintenance': 'regular',\n",
      "      'Material knowledge': 'wood, plywood, mdf',\n",
      "      'Furniture design': 'null',\n",
      "    \n"
     ]
    }
   ],
   "execution_count": 6
  },
  {
   "metadata": {},
   "cell_type": "code",
   "source": "response.keys()",
   "id": "291f52e6d13fea73",
   "outputs": [],
   "execution_count": null
  },
  {
   "metadata": {
    "ExecuteTime": {
     "end_time": "2024-12-18T08:35:48.561685Z",
     "start_time": "2024-12-18T08:35:48.553278Z"
    }
   },
   "cell_type": "code",
   "source": "response # the package response\n",
   "id": "6dbad012ab6f1195",
   "outputs": [
    {
     "data": {
      "text/plain": [
       "{'rule_instance': {'_id': '00000000-0000-0000-0000-000000000000',\n",
       "  'description': 'string',\n",
       "  'isActive': True,\n",
       "  'lastUpdateTime': '00/00/0000 00:00:00',\n",
       "  'params': {'Woodworking skills': 'intermediate',\n",
       "   'Blueprint reading': 'good',\n",
       "   'Precision measurement': 'feet',\n",
       "   'Tool maintenance': 'regular',\n",
       "   'Material knowledge': 'wood, plywood, mdf',\n",
       "   'Furniture design': 'null'},\n",
       "  'ruleInstanceName': 'carpentry intermediate level',\n",
       "  'severity': 2,\n",
       "  'ruleType': 'structured',\n",
       "  'ruleOwner': '',\n",
       "  'ruleTypeId': 'a5738ce0-b687-4be4-b0a5-588d95b8163e',\n",
       "  'eventDetails': [{'objectName': 'Carpenter',\n",
       "    'objectDescription': None,\n",
       "    'timeWindowInMilliseconds': 0,\n",
       "    'useLatest': False}],\n",
       "  'additionalInformation': {},\n",
       "  'presetId': '00000000-0000-0000-0000-000000000000'},\n",
       " 'is_error': False,\n",
       " 'error_message': '',\n",
       " 'free_text': \"A new instance needs to be created for carpentry intermediate level, dealing with the skill set of woodworking and the level is intermediate. The understanding of blueprint reading is good. However, the precision measurement used is something more common, let's say something like feet. The maintenance of tools is done on a regular basis, and the knowledge of material includes wood, plywood, mdf. The design skills in furniture aren't available, and the severity of this instance is two.\",\n",
       " 'type_name': 'carpenter',\n",
       " 'rag_score': 0.7396616656754446,\n",
       " 'model_response': \"```json\\n    {\\n      'ruleInstanceName': 'carpentry intermediate level',\\n      'severity': '2',\\n      'Woodworking skills': 'intermediate',\\n      'Blueprint reading': 'good',\\n      'Precision measurement': 'feet',\\n      'Tool maintenance': 'regular',\\n      'Material knowledge': 'wood, plywood, mdf',\\n      'Furniture design': 'null',\\n    }\",\n",
       " 'examples': {'example_1': {'distance': array([0.72697156]),\n",
       "   'free_text': '[\"A case of technician skill assessment needs to be initiated, dealing with the proficiency area of engine troubleshooting. The proficiency level in this area is just, um, average. However, the tool proficiency is a bit higher, let\\'s say something like intermediate. The skill in part replacement is a no, and the efficiency under pressure is medium. The communication skills with customers are good, and the severity of the assessment is two.\"]',\n",
       "   'response': \"{'ruleInstanceName': 'technician skill assessment', 'severity': '2', 'Engine troubleshooting': 'average', 'Tool proficiency': 'intermediate', 'Part replacement': 'no', 'Diagnostic skills': 'null', 'Efficiency under pressure': 'medium', 'Customer communication': 'good'}\",\n",
       "   'response_id': 'MechanicD2Q3',\n",
       "   'type_name': 'Mechanic'},\n",
       "  'example_2': {'distance': array([0.87661165]),\n",
       "   'free_text': '[\"An instance of carpentry beginner level needs to be created, dealing with the type of woodworking skills as beginner. The level of blueprint reading in the task was just, um, basic. However, the precision measurement was much more, let\\'s say something like inches. The tool maintenance knowledge is null, and the material knowledge is wood, plywood. The design of the furniture is simple, and the severity of the task is one.\"]',\n",
       "   'response': \"{'ruleInstanceName': 'carpentry beginner level', 'severity': '1', 'Woodworking skills': 'beginner', 'Blueprint reading': 'basic', 'Precision measurement': 'inches', 'Tool maintenance': 'null', 'Material knowledge': 'wood, plywood', 'Furniture design': 'simple'}\",\n",
       "   'response_id': 'CarpenterD1Q1',\n",
       "   'type_name': 'Carpenter'}},\n",
       " 'schema': {'Woodworking skills': 'String',\n",
       "  'Blueprint reading': 'String',\n",
       "  'Precision measurement': 'String',\n",
       "  'Tool maintenance': 'String',\n",
       "  'Material knowledge': 'String',\n",
       "  'Furniture design': 'String',\n",
       "  'ruleInstanceName': 'string',\n",
       "  'severity': 'int'},\n",
       " 'time': '2024-12-18|10:35:36',\n",
       " 'inference_time': 53.676034450531006}"
      ]
     },
     "execution_count": 7,
     "metadata": {},
     "output_type": "execute_result"
    }
   ],
   "execution_count": 7
  },
  {
   "metadata": {},
   "cell_type": "code",
   "source": "rig.add_rule_types_from_folder(\"/home/mefathim/PycharmProjects/RIG_v4/evaluation/data/rule_types/46_ruletypes\")",
   "id": "f9edb1d6354f2689",
   "outputs": [],
   "execution_count": null
  },
  {
   "metadata": {},
   "cell_type": "code",
   "source": [
    "# giving us feedback on the response. it will help us to improve the project. it stores in .logs file, without internet connection.\n",
    "rig.feedback(True)  # or 0.8, or what ever you can  "
   ],
   "id": "1fd6dbf5fae064c9",
   "outputs": [],
   "execution_count": null
  },
  {
   "metadata": {},
   "cell_type": "markdown",
   "source": "# now you can run the evaluation:",
   "id": "e347cadf3211cca9"
  },
  {
   "metadata": {},
   "cell_type": "code",
   "source": [
    "rig.evaluate(\n",
    "    data_dile_path=\"/home/mefathim/PycharmProjects/RIG_v4/evaluation/data/data_yuda.csv\",\n",
    "    output_directory=\"/home/mefathim/PycharmProjects/RIG_v4/evaluation/output\",\n",
    "    start_point = 0,\n",
    "    end_point = 1, # None = all the data\n",
    "    sleep_time_each_10_iter = 30\n",
    ")"
   ],
   "id": "3a636acd65e09e7b",
   "outputs": [],
   "execution_count": null
  },
  {
   "metadata": {},
   "cell_type": "markdown",
   "source": [
    "## using the GUI\n",
    "very basic, work only with the globals file constant"
   ],
   "id": "b481d837f9f01dc3"
  },
  {
   "metadata": {},
   "cell_type": "code",
   "source": [
    "# from RIG.src.Utils.GUI import run_gui\n",
    "# run_gui()"
   ],
   "id": "e125ccc9f3fcbaa1",
   "outputs": [],
   "execution_count": null
  }
 ],
 "metadata": {
  "kernelspec": {
   "display_name": "Python 3",
   "language": "python",
   "name": "python3"
  },
  "language_info": {
   "codemirror_mode": {
    "name": "ipython",
    "version": 2
   },
   "file_extension": ".py",
   "mimetype": "text/x-python",
   "name": "python",
   "nbconvert_exporter": "python",
   "pygments_lexer": "ipython2",
   "version": "2.7.6"
  }
 },
 "nbformat": 4,
 "nbformat_minor": 5
}
