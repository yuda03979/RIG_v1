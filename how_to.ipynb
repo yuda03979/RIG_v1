{
 "cells": [
  {
   "cell_type": "code",
   "id": "initial_id",
   "metadata": {
    "collapsed": true,
    "ExecuteTime": {
     "end_time": "2024-12-09T09:53:18.624843Z",
     "start_time": "2024-12-09T09:53:13.236614Z"
    }
   },
   "source": "from RIG import RuleInstanceGenerator",
   "outputs": [],
   "execution_count": 1
  },
  {
   "metadata": {
    "ExecuteTime": {
     "end_time": "2024-12-09T09:53:19.937573Z",
     "start_time": "2024-12-09T09:53:18.625954Z"
    }
   },
   "cell_type": "code",
   "source": [
    "rig = RuleInstanceGenerator(\n",
    "    project_directory=\"/Users/yuda/Desktop/RIG_v1/project_directory\",  # required\n",
    "    gpt_model_path=\"/Users/yuda/Desktop/models/gemma-2-2b-it-Q8_0.gguf\", # required\n",
    "    rag_model_path=\"/Users/yuda/Desktop/models/bge-m3\", # required\n",
    "    rule_types_directory=\"\", # optional. if you want to load rule-types from directory.\n",
    "    rag_threshold=0.5, # oprional\n",
    "    max_context_length=1024, # optional\n",
    "    max_new_tokens=512, # optional\n",
    "    n_threads=5 # optional\n",
    ")"
   ],
   "id": "a8d89b711cd268a1",
   "outputs": [],
   "execution_count": 2
  },
  {
   "metadata": {
    "ExecuteTime": {
     "end_time": "2024-12-09T09:53:19.941693Z",
     "start_time": "2024-12-09T09:53:19.938244Z"
    }
   },
   "cell_type": "code",
   "source": [
    "# get list of existing rule types:\n",
    "rig.get_rule_types_names()"
   ],
   "id": "40f11096719ee8f8",
   "outputs": [
    {
     "data": {
      "text/plain": [
       "['missile malfunction',\n",
       " 'missile failure',\n",
       " 'launch failure',\n",
       " 'platoon report',\n",
       " 'encryption flaw',\n",
       " 'corruption scandal',\n",
       " 'betrayal risk',\n",
       " 'leadership breakdown',\n",
       " 'satellite disruption',\n",
       " 'bomb failure',\n",
       " 'defection threat',\n",
       " 'attack overview',\n",
       " 'fire control',\n",
       " 'disloyal soldier',\n",
       " 'command incompetence',\n",
       " 'supply shortage',\n",
       " 'system failure',\n",
       " 'covert agent',\n",
       " 'suspected person',\n",
       " 'radar error monitoring',\n",
       " 'api throttling',\n",
       " 'temperature overload',\n",
       " 'disk space warning',\n",
       " 'memory usage alert',\n",
       " 'equipment malfunction',\n",
       " 'password expiry',\n",
       " 'temperature threshold exceeded']"
      ]
     },
     "execution_count": 3,
     "metadata": {},
     "output_type": "execute_result"
    }
   ],
   "execution_count": 3
  },
  {
   "metadata": {},
   "cell_type": "markdown",
   "source": "## get rule instance from free text",
   "id": "af0758f5e833cca9"
  },
  {
   "metadata": {
    "ExecuteTime": {
     "end_time": "2024-12-09T09:53:20.318560Z",
     "start_time": "2024-12-09T09:53:19.942257Z"
    }
   },
   "cell_type": "code",
   "source": "rig.init_gemma_model(max_context_length=1024 + 512)",
   "id": "935789e3a7f1260d",
   "outputs": [
    {
     "name": "stderr",
     "output_type": "stream",
     "text": [
      "llama_new_context_with_model: n_ctx_per_seq (1536) < n_ctx_train (8192) -- the full capacity of the model will not be utilized\n",
      "ggml_metal_init: skipping kernel_get_rows_bf16                     (not supported)\n",
      "ggml_metal_init: skipping kernel_mul_mv_bf16_f32                   (not supported)\n",
      "ggml_metal_init: skipping kernel_mul_mv_bf16_f32_1row              (not supported)\n",
      "ggml_metal_init: skipping kernel_mul_mv_bf16_f32_l4                (not supported)\n",
      "ggml_metal_init: skipping kernel_mul_mv_bf16_bf16                  (not supported)\n",
      "ggml_metal_init: skipping kernel_mul_mv_id_bf16_f32                (not supported)\n",
      "ggml_metal_init: skipping kernel_mul_mm_bf16_f32                   (not supported)\n",
      "ggml_metal_init: skipping kernel_mul_mm_id_bf16_f32                (not supported)\n",
      "ggml_metal_init: skipping kernel_flash_attn_ext_bf16_h64           (not supported)\n",
      "ggml_metal_init: skipping kernel_flash_attn_ext_bf16_h80           (not supported)\n",
      "ggml_metal_init: skipping kernel_flash_attn_ext_bf16_h96           (not supported)\n",
      "ggml_metal_init: skipping kernel_flash_attn_ext_bf16_h112          (not supported)\n",
      "ggml_metal_init: skipping kernel_flash_attn_ext_bf16_h128          (not supported)\n",
      "ggml_metal_init: skipping kernel_flash_attn_ext_bf16_h256          (not supported)\n",
      "ggml_metal_init: skipping kernel_flash_attn_ext_vec_bf16_h128      (not supported)\n",
      "ggml_metal_init: skipping kernel_flash_attn_ext_vec_bf16_h256      (not supported)\n",
      "ggml_metal_init: skipping kernel_cpy_f32_bf16                      (not supported)\n",
      "ggml_metal_init: skipping kernel_cpy_bf16_f32                      (not supported)\n",
      "ggml_metal_init: skipping kernel_cpy_bf16_bf16                     (not supported)\n"
     ]
    },
    {
     "data": {
      "text/plain": [
       "True"
      ]
     },
     "execution_count": 4,
     "metadata": {},
     "output_type": "execute_result"
    }
   ],
   "execution_count": 4
  },
  {
   "metadata": {
    "ExecuteTime": {
     "end_time": "2024-12-09T09:53:27.342455Z",
     "start_time": "2024-12-09T09:53:20.320016Z"
    }
   },
   "cell_type": "code",
   "source": [
    "free_text = \"Alright, let's dive in. We're looking at 'Exploitation Scenario 789'. The crux of the matter is, there's this individual, going by the ID 'XYZ789', who's been involved in an exploitation failure. The level of seriousness? I'd estimate about three. The breach? Fairness. Not good, not good at all. When did we spot this? Well, the detection time isn't clear. And the context? Personal. Yes, it's a pretty serious situation\"\n",
    "\n",
    "response = rig.get_rule_instance(free_text) # return dictionary"
   ],
   "id": "d41d9ff66ad84cda",
   "outputs": [],
   "execution_count": 5
  },
  {
   "metadata": {
    "ExecuteTime": {
     "end_time": "2024-12-09T09:53:27.346256Z",
     "start_time": "2024-12-09T09:53:27.343320Z"
    }
   },
   "cell_type": "code",
   "source": "response.keys()",
   "id": "291f52e6d13fea73",
   "outputs": [
    {
     "data": {
      "text/plain": [
       "dict_keys(['rule_instance', 'is_error', 'error_message', 'free_text', 'type_name', 'rag_score', 'model_response', 'schema', 'time', 'inference_time'])"
      ]
     },
     "execution_count": 6,
     "metadata": {},
     "output_type": "execute_result"
    }
   ],
   "execution_count": 6
  },
  {
   "metadata": {
    "ExecuteTime": {
     "end_time": "2024-12-09T09:53:27.349618Z",
     "start_time": "2024-12-09T09:53:27.347043Z"
    }
   },
   "cell_type": "code",
   "source": "response[\"rule_instance\"] # the package response",
   "id": "6dbad012ab6f1195",
   "outputs": [
    {
     "data": {
      "text/plain": [
       "{'_id': '00000000-0000-0000-0000-000000000000',\n",
       " 'description': 'string',\n",
       " 'isActive': True,\n",
       " 'lastUpdateTime': '00/00/0000 00:00:00',\n",
       " 'params': {'launchID': '789',\n",
       "  'failureType': 'Exploitation',\n",
       "  'failureSeverity': 3,\n",
       "  'impactArea': 'Personal',\n",
       "  'launchTime': 'null',\n",
       "  'recoveryTime': 'null'},\n",
       " 'ruleInstanceName': 'launch failure - Exploitation Scenario 789',\n",
       " 'severity': 3,\n",
       " 'ruleType': 'structured',\n",
       " 'ruleOwner': '',\n",
       " 'ruleTypeId': 'a4e8b2c1-e5f3-4c8f-826b-31b9e9ab732b',\n",
       " 'eventDetails': [{'objectName': 'Launch',\n",
       "   'objectDescription': None,\n",
       "   'timeWindowInMilliseconds': 0,\n",
       "   'useLatest': False}],\n",
       " 'additionalInformation': {},\n",
       " 'presetId': '00000000-0000-0000-0000-000000000000'}"
      ]
     },
     "execution_count": 7,
     "metadata": {},
     "output_type": "execute_result"
    }
   ],
   "execution_count": 7
  },
  {
   "metadata": {
    "ExecuteTime": {
     "end_time": "2024-12-09T09:53:27.352891Z",
     "start_time": "2024-12-09T09:53:27.350295Z"
    }
   },
   "cell_type": "code",
   "source": [
    "# giving us feedback on the response. it will help us to improve the project. it stores in .logs file, without internet connection.\n",
    "rig.feedback(True)  # or 0.8, or what ever you can  "
   ],
   "id": "1fd6dbf5fae064c9",
   "outputs": [
    {
     "data": {
      "text/plain": [
       "'thank you :)'"
      ]
     },
     "execution_count": 8,
     "metadata": {},
     "output_type": "execute_result"
    }
   ],
   "execution_count": 8
  },
  {
   "metadata": {},
   "cell_type": "markdown",
   "source": "# now you can run the evaluation:",
   "id": "e347cadf3211cca9"
  },
  {
   "metadata": {
    "ExecuteTime": {
     "end_time": "2024-12-09T09:53:32.133014Z",
     "start_time": "2024-12-09T09:53:27.353600Z"
    }
   },
   "cell_type": "code",
   "source": [
    "rig.evaluate(\n",
    "    data_file_path=\"/Users/yuda/Desktop/RIG_v1/evaluation/data/data_yuda.csv\",\n",
    "    output_directory=\"/Users/yuda/Desktop/RIG_v1/evaluation/output\",\n",
    "    start_point = 0,\n",
    "    end_point = 1, # if set to None, All data is evaluated.\n",
    "    sleep_time_each_10_iter = 30\n",
    ")"
   ],
   "id": "3a636acd65e09e7b",
   "outputs": [
    {
     "name": "stderr",
     "output_type": "stream",
     "text": [
      "  0%|          | 0/1 [00:00<?, ?it/s]"
     ]
    },
    {
     "name": "stdout",
     "output_type": "stream",
     "text": [
      "0\n"
     ]
    },
    {
     "name": "stderr",
     "output_type": "stream",
     "text": [
      "100%|██████████| 1/1 [00:04<00:00,  4.73s/it]"
     ]
    },
    {
     "name": "stdout",
     "output_type": "stream",
     "text": [
      "0 {'rule_instance': {'_id': '00000000-0000-0000-0000-000000000000', 'description': 'string', 'isActive': True, 'lastUpdateTime': '00/00/0000 00:00:00', 'params': {'threatID': 'null', 'defectorProfile': 'Intelligence Operative', 'defectionReason': 'Personal Gain', 'threatLevel': 'High', 'potentialAlly': 'null', 'ruleInstanceName': 'defection threat -  Intelligence Operative Defection', 'severity': 3}, 'ruleInstanceName': 'defection threat -  Intelligence Operative Defection', 'severity': 3, 'ruleType': 'structured', 'ruleOwner': '', 'ruleTypeId': 'c8dcb74b-59ed-44b5-854d-d10b5f3b2c85', 'eventDetails': [{'objectName': 'Threat', 'objectDescription': None, 'timeWindowInMilliseconds': 0, 'useLatest': False}], 'additionalInformation': {}, 'presetId': '00000000-0000-0000-0000-000000000000'}, 'is_error': False, 'error_message': '', 'free_text': \"Hold on a minute! You're saying that an Intelligence Operative has defected for Personal Gain, and it's only classified as severity three? That's preposterous! How is that feasible? How is it that such a significant move has such a low severity rating? And the threat level is just High? That's quite serious, but only High? Are they really terming it as just 'defection threat Critical Situation'? That doesn't make any sense at all. I thought defection of such a high profile operative would be much worse than this. The severity rating is just... a three? Are you certain about this? This doesn't seem to reconcile at all. How can an event of this magnitude be so low on the scale? It seems like they're trivializing the whole situation. 'defection threat Critical Situation' doesn't even seem to align with the situation at hand. Why is it being minimized this much? I can't fathom this is the official response to such a significant event. We need to reassess how these situations are being classified.\", 'type_name': 'defection threat', 'rag_score': 0.5702271782232864, 'model_response': '```json\\n    {\"threatID\": \"null\",\"defectorProfile\": \"Intelligence Operative\", \"defectionReason\": \"Personal Gain\", \"threatLevel\": \"High\", \"potentialAlly\": \"null\", \"ruleInstanceName\": \"defection threat -  Intelligence Operative Defection\", \"severity\": 3}', 'schema': {'threatID': 'String', 'defectorProfile': 'String', 'defectionReason': 'String', 'threatLevel': 'String', 'potentialAlly': 'String', 'ruleInstanceName': 'string', 'severity': 'int'}, 'time': '2024-12-09|11:53:32', 'inference_time': 4.728482007980347}\n",
      "without classification mistakes: \n",
      "\n",
      "Average Accuracy Metrics:\n",
      "binary_score: 0.00%\n",
      "binary_score_no_instance_name: 0.00%\n",
      "param_numerical_binary_score: 100.00%\n",
      "param_numerical_avg_score: 100.00%\n",
      "param_verbal_binary_score: 0.00%\n",
      "param_verbal_avg_score: 60.00%\n",
      "score_rule_instance_name: 0.00%\n",
      "classification score: 100.00%\n",
      "with all the data: \n",
      "\n",
      "Average Accuracy Metrics:\n",
      "binary_score: 0.00%\n",
      "binary_score_no_instance_name: 0.00%\n",
      "param_numerical_binary_score: 100.00%\n",
      "param_numerical_avg_score: 100.00%\n",
      "param_verbal_binary_score: 0.00%\n",
      "param_verbal_avg_score: 60.00%\n",
      "score_rule_instance_name: 0.00%\n",
      "classification score: 100.00%\n"
     ]
    },
    {
     "name": "stderr",
     "output_type": "stream",
     "text": [
      "\n"
     ]
    }
   ],
   "execution_count": 9
  },
  {
   "metadata": {},
   "cell_type": "markdown",
   "source": [
    "## using the GUI\n",
    "very basic, work only with the globals file constant"
   ],
   "id": "b481d837f9f01dc3"
  },
  {
   "metadata": {
    "ExecuteTime": {
     "end_time": "2024-12-09T09:53:32.135378Z",
     "start_time": "2024-12-09T09:53:32.133832Z"
    }
   },
   "cell_type": "code",
   "source": [
    "# from RIG.src.Utils.GUI import run_gui\n",
    "# run_gui()"
   ],
   "id": "e125ccc9f3fcbaa1",
   "outputs": [],
   "execution_count": 10
  }
 ],
 "metadata": {
  "kernelspec": {
   "display_name": "Python 3",
   "language": "python",
   "name": "python3"
  },
  "language_info": {
   "codemirror_mode": {
    "name": "ipython",
    "version": 2
   },
   "file_extension": ".py",
   "mimetype": "text/x-python",
   "name": "python",
   "nbconvert_exporter": "python",
   "pygments_lexer": "ipython2",
   "version": "2.7.6"
  }
 },
 "nbformat": 4,
 "nbformat_minor": 5
}
