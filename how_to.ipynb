{
 "cells": [
  {
   "cell_type": "code",
   "id": "initial_id",
   "metadata": {
    "collapsed": true,
    "ExecuteTime": {
     "end_time": "2024-12-16T11:27:50.041832Z",
     "start_time": "2024-12-16T11:27:44.724819Z"
    }
   },
   "source": "from RIG import RuleInstanceGenerator",
   "outputs": [],
   "execution_count": 1
  },
  {
   "metadata": {
    "ExecuteTime": {
     "end_time": "2024-12-16T11:28:07.192821Z",
     "start_time": "2024-12-16T11:27:50.042832Z"
    }
   },
   "cell_type": "code",
   "source": [
    "rig = RuleInstanceGenerator(\n",
    "    project_directory=\"/Users/yuda/Desktop/RIG_v1/project_directory\",  # required\n",
    "    gpt_model_path=\"/Users/yuda/Desktop/models/gemma-2-2b-it-Q8_0.gguf\", # required\n",
    "    rag_model_path=\"/Users/yuda/Desktop/models/bge-m3\", # required\n",
    "    rule_types_directory=\"/Users/yuda/Desktop/RIG_v1/evaluation/data/rule_types\", # optional. if you want to load rule-types from directory.\n",
    "    rag_threshold=0.5, # oprional\n",
    "    max_context_length=1024, # optional\n",
    "    max_new_tokens=512, # optional\n",
    "    n_threads=5 # optional\n",
    ")"
   ],
   "id": "a8d89b711cd268a1",
   "outputs": [
    {
     "name": "stdout",
     "output_type": "stream",
     "text": [
      "rule_types_loaded: ['Bridge.json', 'Tentacled_Sea_Cucumber.json', 'Cavalry_Charge.json', 'Guerrilla_Skirmish.json', 'Sea_Otter.json', 'Morning_Star.json', 'Warehouse.json', 'Journalist.json', 'Rapier.json', 'Graphic_Designer.json', 'Puffin.json', 'Data_Analyst.json', 'Teacher.json', 'Hamster.json', 'Katana.json', 'Scientist.json', 'Boomerang.json', 'Koala.json', 'Counteroffensive.json', 'Nurse.json', 'Night_Raid.json', 'Dentist.json', 'Gondola.json', 'Halberd.json', 'Engineer.json', 'Hospital.json', 'Personal_Trainer.json', 'Tarantula.json', 'Architect.json', 'Bastard_Sword.json', 'Apartment_Building.json', 'Beaver.json', 'Flanking_Maneuver.json', 'Komodo_Dragon.json', 'Molotov_Cocktail.json', 'Bull.json', 'Fox.json', 'Flail.json', 'Firefighter.json', 'Kayak.json', 'Ballista.json', 'Farmer.json', 'Evacuation_Operation.json', 'Trench_Assault.json', 'Cow.json', 'Chef.json', 'Actor.json', 'ATV.json', 'Castle.json', 'Multi_Motor_Trampoline.json', 'Parrotfish.json', 'Aerial_Dogfight.json', 'Vulture.json', 'Goldfish.json', 'Paratrooper_Drop.json', 'Naval_Bombardment.json', 'Mole.json', 'Cannon.json', 'Air_Strike.json', 'Scimitar.json', 'Shuriken.json', 'Canoe.json', 'Scythe.json', 'Goliath_Frog.json', 'Electrician.json', 'Cottage.json', 'Conveyor.json', 'Software_Developer.json', 'Tank_Advance.json', 'Church.json', 'Robot.json', 'Gauntlet_Knife.json', 'Beetle.json', 'Library.json', 'Factory.json', 'Airship_Vehicle.json', 'Artillery_Strike.json', 'Psychologist.json', 'Kangaroo.json', 'Anglerfish.json', 'Sabre.json', 'Phoenix_Fish.json', 'Siege.json', 'Barista.json', 'Pilot.json', 'Hotel.json', 'Minefield_Deployment.json', 'Lawyer.json', 'Museum.json', 'Police_Officer.json', 'Photographer.json', 'Bow.json', 'Poodle.json', 'Plumber.json', 'Bayonet_Charge.json', 'Net_Gun.json', 'Battlefield_Retreat.json', 'School.json', 'Kestrel.json', 'Swan.json', 'Electric_Train.json', 'Blowgun.json', 'Ambulance.json', 'Ambush.json', 'Pangolin.json', 'Chakram.json', 'Platypus.json', 'Rooster.json', 'Wildcat.json', 'x4X4_Off_Road_Car.json', 'Event_Planner.json', 'Trident.json', 'Mall.json', 'Carpenter.json', 'Rabbit.json', 'Trolley.json', 'Urban_Public_Transport_System.json', 'Sniper_Attack.json', 'Axe.json', 'Mechanic.json']\n"
     ]
    }
   ],
   "execution_count": 2
  },
  {
   "metadata": {
    "ExecuteTime": {
     "end_time": "2024-12-16T11:28:07.198217Z",
     "start_time": "2024-12-16T11:28:07.193740Z"
    }
   },
   "cell_type": "code",
   "source": [
    "# get list of existing rule types:\n",
    "rig.get_rule_types_names()"
   ],
   "id": "40f11096719ee8f8",
   "outputs": [
    {
     "data": {
      "text/plain": [
       "['bridge',\n",
       " 'tentacled_sea_cucumber',\n",
       " 'cavalry_charge',\n",
       " 'guerrilla_skirmish',\n",
       " 'sea_otter',\n",
       " 'morning_star',\n",
       " 'warehouse',\n",
       " 'journalist',\n",
       " 'rapier',\n",
       " 'graphic_designer',\n",
       " 'puffin',\n",
       " 'data_analyst',\n",
       " 'teacher',\n",
       " 'hamster',\n",
       " 'katana',\n",
       " 'scientist',\n",
       " 'boomerang',\n",
       " 'koala',\n",
       " 'counteroffensive',\n",
       " 'nurse',\n",
       " 'night_raid',\n",
       " 'dentist',\n",
       " 'gondola',\n",
       " 'halberd',\n",
       " 'engineer',\n",
       " 'hospital',\n",
       " 'personal_trainer',\n",
       " 'tarantula',\n",
       " 'architect',\n",
       " 'bastard_sword',\n",
       " 'apartment_building',\n",
       " 'beaver',\n",
       " 'flanking_maneuver',\n",
       " 'komodo_dragon',\n",
       " 'molotov_cocktail',\n",
       " 'bull',\n",
       " 'fox',\n",
       " 'flail',\n",
       " 'firefighter',\n",
       " 'kayak',\n",
       " 'ballista',\n",
       " 'farmer',\n",
       " 'evacuation_operation',\n",
       " 'trench_assault',\n",
       " 'cow',\n",
       " 'chef',\n",
       " 'actor',\n",
       " 'atv',\n",
       " 'castle',\n",
       " 'multi_motor_trampoline',\n",
       " 'parrotfish',\n",
       " 'aerial_dogfight',\n",
       " 'vulture',\n",
       " 'goldfish',\n",
       " 'paratrooper_drop',\n",
       " 'naval_bombardment',\n",
       " 'mole',\n",
       " 'cannon',\n",
       " 'air_strike',\n",
       " 'scimitar',\n",
       " 'shuriken',\n",
       " 'canoe',\n",
       " 'scythe',\n",
       " 'goliath frog',\n",
       " 'electrician',\n",
       " 'cottage',\n",
       " 'conveyor',\n",
       " 'software developer',\n",
       " 'tank_advance',\n",
       " 'church',\n",
       " 'robot',\n",
       " 'gauntlet_knife',\n",
       " 'beetle',\n",
       " 'library',\n",
       " 'factory',\n",
       " 'airship_vehicle',\n",
       " 'artillery_strike',\n",
       " 'psychologist',\n",
       " 'kangaroo',\n",
       " 'anglerfish',\n",
       " 'sabre',\n",
       " 'phoenix fish',\n",
       " 'siege',\n",
       " 'barista',\n",
       " 'pilot',\n",
       " 'hotel',\n",
       " 'minefield_deployment',\n",
       " 'lawyer',\n",
       " 'museum',\n",
       " 'police_officer',\n",
       " 'photographer',\n",
       " 'bow',\n",
       " 'poodle',\n",
       " 'plumber',\n",
       " 'bayonet_charge',\n",
       " 'net_gun',\n",
       " 'battlefield_retreat',\n",
       " 'school',\n",
       " 'kestrel',\n",
       " 'swan',\n",
       " 'electric_train',\n",
       " 'blowgun',\n",
       " 'ambulance',\n",
       " 'ambush',\n",
       " 'pangolin',\n",
       " 'chakram',\n",
       " 'platypus',\n",
       " 'rooster',\n",
       " 'wildcat',\n",
       " 'x4x4_off_road_car',\n",
       " 'event_planner',\n",
       " 'trident',\n",
       " 'mall',\n",
       " 'carpenter',\n",
       " 'rabbit',\n",
       " 'trolley',\n",
       " 'urban_public_transport_system',\n",
       " 'sniper_attack',\n",
       " 'axe',\n",
       " 'mechanic']"
      ]
     },
     "execution_count": 3,
     "metadata": {},
     "output_type": "execute_result"
    }
   ],
   "execution_count": 3
  },
  {
   "metadata": {},
   "cell_type": "markdown",
   "source": "## get rule instance from free text",
   "id": "af0758f5e833cca9"
  },
  {
   "metadata": {
    "ExecuteTime": {
     "end_time": "2024-12-16T11:28:07.562303Z",
     "start_time": "2024-12-16T11:28:07.198907Z"
    }
   },
   "cell_type": "code",
   "source": "rig.init_gemma_model(max_context_length=1024 + 512)",
   "id": "935789e3a7f1260d",
   "outputs": [
    {
     "name": "stderr",
     "output_type": "stream",
     "text": [
      "llama_new_context_with_model: n_ctx_per_seq (1536) < n_ctx_train (8192) -- the full capacity of the model will not be utilized\n",
      "ggml_metal_init: skipping kernel_get_rows_bf16                     (not supported)\n",
      "ggml_metal_init: skipping kernel_mul_mv_bf16_f32                   (not supported)\n",
      "ggml_metal_init: skipping kernel_mul_mv_bf16_f32_1row              (not supported)\n",
      "ggml_metal_init: skipping kernel_mul_mv_bf16_f32_l4                (not supported)\n",
      "ggml_metal_init: skipping kernel_mul_mv_bf16_bf16                  (not supported)\n",
      "ggml_metal_init: skipping kernel_mul_mv_id_bf16_f32                (not supported)\n",
      "ggml_metal_init: skipping kernel_mul_mm_bf16_f32                   (not supported)\n",
      "ggml_metal_init: skipping kernel_mul_mm_id_bf16_f32                (not supported)\n",
      "ggml_metal_init: skipping kernel_flash_attn_ext_bf16_h64           (not supported)\n",
      "ggml_metal_init: skipping kernel_flash_attn_ext_bf16_h80           (not supported)\n",
      "ggml_metal_init: skipping kernel_flash_attn_ext_bf16_h96           (not supported)\n",
      "ggml_metal_init: skipping kernel_flash_attn_ext_bf16_h112          (not supported)\n",
      "ggml_metal_init: skipping kernel_flash_attn_ext_bf16_h128          (not supported)\n",
      "ggml_metal_init: skipping kernel_flash_attn_ext_bf16_h256          (not supported)\n",
      "ggml_metal_init: skipping kernel_flash_attn_ext_vec_bf16_h128      (not supported)\n",
      "ggml_metal_init: skipping kernel_flash_attn_ext_vec_bf16_h256      (not supported)\n",
      "ggml_metal_init: skipping kernel_cpy_f32_bf16                      (not supported)\n",
      "ggml_metal_init: skipping kernel_cpy_bf16_f32                      (not supported)\n",
      "ggml_metal_init: skipping kernel_cpy_bf16_bf16                     (not supported)\n"
     ]
    },
    {
     "data": {
      "text/plain": [
       "True"
      ]
     },
     "execution_count": 4,
     "metadata": {},
     "output_type": "execute_result"
    }
   ],
   "execution_count": 4
  },
  {
   "metadata": {
    "ExecuteTime": {
     "end_time": "2024-12-16T11:28:14.664570Z",
     "start_time": "2024-12-16T11:28:07.563866Z"
    }
   },
   "cell_type": "code",
   "source": [
    "free_text = \"Alright, let's dive in. We're looking at 'Exploitation Scenario 789'. The crux of the matter is, there's this individual, going by the ID 'XYZ789', who's been involved in an exploitation failure. The level of seriousness? I'd estimate about three. The breach? Fairness. Not good, not good at all. When did we spot this? Well, the detection time isn't clear. And the context? Personal. Yes, it's a pretty serious situation\"\n",
    "\n",
    "response = rig.get_rule_instance(free_text) # return dictionary"
   ],
   "id": "d41d9ff66ad84cda",
   "outputs": [],
   "execution_count": 5
  },
  {
   "metadata": {
    "ExecuteTime": {
     "end_time": "2024-12-16T11:28:14.668059Z",
     "start_time": "2024-12-16T11:28:14.665565Z"
    }
   },
   "cell_type": "code",
   "source": "response.keys()",
   "id": "291f52e6d13fea73",
   "outputs": [
    {
     "data": {
      "text/plain": [
       "dict_keys(['rule_instance', 'is_error', 'error_message', 'free_text', 'type_name', 'rag_score', 'model_response', 'schema', 'time', 'inference_time'])"
      ]
     },
     "execution_count": 6,
     "metadata": {},
     "output_type": "execute_result"
    }
   ],
   "execution_count": 6
  },
  {
   "metadata": {
    "ExecuteTime": {
     "end_time": "2024-12-16T11:28:14.671314Z",
     "start_time": "2024-12-16T11:28:14.668826Z"
    }
   },
   "cell_type": "code",
   "source": "response[\"rule_instance\"] # the package response",
   "id": "6dbad012ab6f1195",
   "outputs": [
    {
     "data": {
      "text/plain": [
       "{'_id': '00000000-0000-0000-0000-000000000000',\n",
       " 'description': 'string',\n",
       " 'isActive': True,\n",
       " 'lastUpdateTime': '00/00/0000 00:00:00',\n",
       " 'params': {'Supply disruption': 'null',\n",
       "  'Wall breaching tactics': 'fairness',\n",
       "  'Morale depletion': 'personal',\n",
       "  'Long-term sustainability': 'unsustainable'},\n",
       " 'ruleInstanceName': 'Exploitation Scenario 789',\n",
       " 'severity': 3,\n",
       " 'ruleType': 'structured',\n",
       " 'ruleOwner': '',\n",
       " 'ruleTypeId': '3604212c-42cb-4191-8a2d-9cedaed435fb',\n",
       " 'eventDetails': [{'objectName': 'Siege',\n",
       "   'objectDescription': None,\n",
       "   'timeWindowInMilliseconds': 0,\n",
       "   'useLatest': False}],\n",
       " 'additionalInformation': {},\n",
       " 'presetId': '00000000-0000-0000-0000-000000000000'}"
      ]
     },
     "execution_count": 7,
     "metadata": {},
     "output_type": "execute_result"
    }
   ],
   "execution_count": 7
  },
  {
   "metadata": {
    "ExecuteTime": {
     "end_time": "2024-12-16T11:28:14.674761Z",
     "start_time": "2024-12-16T11:28:14.672048Z"
    }
   },
   "cell_type": "code",
   "source": [
    "# giving us feedback on the response. it will help us to improve the project. it stores in .logs file, without internet connection.\n",
    "rig.feedback(True)  # or 0.8, or what ever you can  "
   ],
   "id": "1fd6dbf5fae064c9",
   "outputs": [
    {
     "data": {
      "text/plain": [
       "'thank you :)'"
      ]
     },
     "execution_count": 8,
     "metadata": {},
     "output_type": "execute_result"
    }
   ],
   "execution_count": 8
  },
  {
   "metadata": {},
   "cell_type": "markdown",
   "source": "# now you can run the evaluation:",
   "id": "e347cadf3211cca9"
  },
  {
   "metadata": {
    "ExecuteTime": {
     "end_time": "2024-12-16T11:28:22.540097Z",
     "start_time": "2024-12-16T11:28:14.675483Z"
    }
   },
   "cell_type": "code",
   "source": [
    "rig.evaluate(\n",
    "    data_file_path=\"/Users/yuda/Desktop/RIG_v1/evaluation/data/data_yuda.csv\",\n",
    "    output_directory=\"/Users/yuda/Desktop/RIG_v1/evaluation/output\",\n",
    "    start_point = 0,\n",
    "    end_point = 1, # if set to None, All data is evaluated.\n",
    "    sleep_time_each_10_iter = 30\n",
    ")"
   ],
   "id": "3a636acd65e09e7b",
   "outputs": [
    {
     "name": "stderr",
     "output_type": "stream",
     "text": [
      "  0%|          | 0/1 [00:00<?, ?it/s]"
     ]
    },
    {
     "name": "stdout",
     "output_type": "stream",
     "text": [
      "0\n"
     ]
    },
    {
     "name": "stderr",
     "output_type": "stream",
     "text": [
      "100%|██████████| 1/1 [00:07<00:00,  7.76s/it]"
     ]
    },
    {
     "name": "stdout",
     "output_type": "stream",
     "text": [
      "without classification mistakes: \n",
      "\n",
      "Average Accuracy Metrics:\n",
      "binary_score: 0.00%\n",
      "binary_score_no_instance_name: 0.00%\n",
      "param_numerical_binary_score: 100.00%\n",
      "param_numerical_avg_score: 100.00%\n",
      "param_verbal_binary_score: 100.00%\n",
      "param_verbal_avg_score: 100.00%\n",
      "score_rule_instance_name: 0.00%\n",
      "classification score: 100.00%\n",
      "with all the data: \n",
      "\n",
      "Average Accuracy Metrics:\n",
      "binary_score: 0.00%\n",
      "binary_score_no_instance_name: 0.00%\n",
      "param_numerical_binary_score: 100.00%\n",
      "param_numerical_avg_score: 100.00%\n",
      "param_verbal_binary_score: 100.00%\n",
      "param_verbal_avg_score: 100.00%\n",
      "score_rule_instance_name: 0.00%\n",
      "classification score: 100.00%\n"
     ]
    },
    {
     "name": "stderr",
     "output_type": "stream",
     "text": [
      "\n"
     ]
    }
   ],
   "execution_count": 9
  },
  {
   "metadata": {},
   "cell_type": "markdown",
   "source": [
    "## using the GUI\n",
    "very basic, work only with the globals file constant"
   ],
   "id": "b481d837f9f01dc3"
  },
  {
   "metadata": {
    "ExecuteTime": {
     "end_time": "2024-12-16T11:28:22.542766Z",
     "start_time": "2024-12-16T11:28:22.541042Z"
    }
   },
   "cell_type": "code",
   "source": [
    "# from RIG.src.Utils.GUI import run_gui\n",
    "# run_gui()"
   ],
   "id": "e125ccc9f3fcbaa1",
   "outputs": [],
   "execution_count": 10
  }
 ],
 "metadata": {
  "kernelspec": {
   "display_name": "Python 3",
   "language": "python",
   "name": "python3"
  },
  "language_info": {
   "codemirror_mode": {
    "name": "ipython",
    "version": 2
   },
   "file_extension": ".py",
   "mimetype": "text/x-python",
   "name": "python",
   "nbconvert_exporter": "python",
   "pygments_lexer": "ipython2",
   "version": "2.7.6"
  }
 },
 "nbformat": 4,
 "nbformat_minor": 5
}
