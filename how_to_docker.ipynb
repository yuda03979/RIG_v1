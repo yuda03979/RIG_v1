{
 "cells": [
  {
   "metadata": {
    "ExecuteTime": {
     "end_time": "2024-12-18T12:49:39.225151Z",
     "start_time": "2024-12-18T12:49:39.156327Z"
    }
   },
   "cell_type": "code",
   "source": [
    "import requests\n",
    "import json\n",
    "\n",
    "# Base URL for the API\n",
    "BASE_URL = 'http://0.0.0.0:8000'\n",
    "\n",
    "def init_gemma_model(max_context_length=1536, max_new_tokens=512, n_threads=8):\n",
    "    \"\"\"\n",
    "    Initialize the Gemma model with specified parameters\n",
    "    \n",
    "    :param max_context_length: Maximum context length\n",
    "    :param max_new_tokens: Maximum new tokens to generate\n",
    "    :param n_threads: Number of threads to use\n",
    "    :return: Response from the API\n",
    "    \"\"\"\n",
    "    url = f'{BASE_URL}/init_gemma_model'\n",
    "    params = {\n",
    "        'max_context_length': max_context_length,\n",
    "        'max_new_tokens': max_new_tokens,\n",
    "        'n_threads': n_threads\n",
    "    }\n",
    "    response = requests.post(url, params=params)\n",
    "    return response.json()\n",
    "\n",
    "def get_rule_instance(free_text):\n",
    "    \"\"\"\n",
    "    Get rule instance based on free text input\n",
    "    \n",
    "    :param free_text: Text to query for rule instance\n",
    "    :return: Response from the API\n",
    "    \"\"\"\n",
    "    url = f'{BASE_URL}/get_rule_instance'\n",
    "    params = {\n",
    "        'free_text': free_text\n",
    "    }\n",
    "    response = requests.post(url, params=params)\n",
    "    return response.json()\n",
    "\n",
    "def get_rule_types_names():\n",
    "    \"\"\"\n",
    "    Retrieve rule type names\n",
    "    \n",
    "    :return: Response from the API\n",
    "    \"\"\"\n",
    "    url = f'{BASE_URL}/get_rule_types_names'\n",
    "    response = requests.get(url)\n",
    "    return response.json()\n",
    "\n",
    "def tweak_rag_parameters(rag_difference=0.002, rag_threshold=0.5):\n",
    "    \"\"\"\n",
    "    Adjust RAG (Retrieval-Augmented Generation) parameters\n",
    "    \n",
    "    :param rag_difference: Difference in RAG parameters\n",
    "    :param rag_threshold: Threshold for RAG\n",
    "    :return: Response from the API\n",
    "    \"\"\"\n",
    "    url = f'{BASE_URL}/tweak_rag_parameters'\n",
    "    params = {\n",
    "        'rag_difference': rag_difference,\n",
    "        'rag_threshold': rag_threshold\n",
    "    }\n",
    "    response = requests.post(url, params=params)\n",
    "    return response.json()\n",
    "\n",
    "def feedback(fb=True):\n",
    "    \"\"\"\n",
    "    Send feedback to the API\n",
    "    \n",
    "    :param fb: Feedback boolean\n",
    "    :return: Response from the API\n",
    "    \"\"\"\n",
    "    url = f'{BASE_URL}/feedback'\n",
    "    params = {\n",
    "        'fb': fb\n",
    "    }\n",
    "    response = requests.post(url, params=params)\n",
    "    return response.json()"
   ],
   "id": "7e6124b81671af94",
   "outputs": [],
   "execution_count": 1
  },
  {
   "metadata": {},
   "cell_type": "markdown",
   "source": "# example usage",
   "id": "2c2bd61eb1318d31"
  },
  {
   "metadata": {},
   "cell_type": "markdown",
   "source": "### init gemma model",
   "id": "cef26a64567d870f"
  },
  {
   "metadata": {
    "ExecuteTime": {
     "end_time": "2024-12-18T12:49:41.793969Z",
     "start_time": "2024-12-18T12:49:40.395669Z"
    }
   },
   "cell_type": "code",
   "source": "init_gemma_model(max_context_length=1536, max_new_tokens=512, n_threads=8)",
   "id": "c0cd3466df3ee8c5",
   "outputs": [
    {
     "data": {
      "text/plain": [
       "True"
      ]
     },
     "execution_count": 2,
     "metadata": {},
     "output_type": "execute_result"
    }
   ],
   "execution_count": 2
  },
  {
   "metadata": {},
   "cell_type": "markdown",
   "source": "### get_rule_instance",
   "id": "14122b4502ba422"
  },
  {
   "metadata": {
    "ExecuteTime": {
     "end_time": "2024-12-18T12:50:01.393973Z",
     "start_time": "2024-12-18T12:49:42.792136Z"
    }
   },
   "cell_type": "code",
   "source": [
    "free_text = \"system failure severity 5 altitute 14 age 30\"\n",
    "\n",
    "get_rule_instance(free_text)"
   ],
   "id": "191e8e15aca6df41",
   "outputs": [
    {
     "data": {
      "text/plain": [
       "{'rule_instance': {'_id': '00000000-0000-0000-0000-000000000000',\n",
       "  'description': 'string',\n",
       "  'isActive': True,\n",
       "  'lastUpdateTime': '00/00/0000 00:00:00',\n",
       "  'params': {'Classroom size': 'null',\n",
       "   'Playground facilities': 'null',\n",
       "   'Energy efficiency': 'null',\n",
       "   'Safety measures': 'null',\n",
       "   'Accessibility': 'null',\n",
       "   'Library size': 'null',\n",
       "   'Technology integration': 'null'},\n",
       "  'ruleInstanceName': 'null',\n",
       "  'severity': 5,\n",
       "  'ruleType': 'structured',\n",
       "  'ruleOwner': '',\n",
       "  'ruleTypeId': 'f91bab06-4d48-4238-bc87-474fd83719d1',\n",
       "  'eventDetails': [{'objectName': 'School',\n",
       "    'objectDescription': None,\n",
       "    'timeWindowInMilliseconds': 0,\n",
       "    'useLatest': False}],\n",
       "  'additionalInformation': {},\n",
       "  'presetId': '00000000-0000-0000-0000-000000000000'},\n",
       " 'is_error': False,\n",
       " 'error_message': '',\n",
       " 'free_text': 'system failure severity 5 altitute 14 age 30',\n",
       " 'type_name': 'school',\n",
       " 'rag_score': 0.6807618737220764,\n",
       " 'model_response': '{\\n        \"Classroom size\": \"null\",\\n        \"Playground facilities\": \"null\",\\n        \"Energy efficiency\": \"null\",\\n        \"Safety measures\": \"null\",\\n        \"Accessibility\": \"null\",\\n        \"Library size\": \"null\",\\n        \"Technology integration\": \"null\",\\n        \"ruleInstanceName\": \"null\",\\n        \"severity\": \"5\"\\n    }',\n",
       " 'schema': {'Classroom size': 'Int',\n",
       "  'Playground facilities': 'String',\n",
       "  'Energy efficiency': 'string',\n",
       "  'Safety measures': 'String',\n",
       "  'Accessibility': 'string',\n",
       "  'Library size': 'Int',\n",
       "  'Technology integration': 'String',\n",
       "  'ruleInstanceName': 'string',\n",
       "  'severity': 'int'},\n",
       " 'time': '2024-12-18|12:50:01',\n",
       " 'inference_time': 18.585626363754272}"
      ]
     },
     "execution_count": 3,
     "metadata": {},
     "output_type": "execute_result"
    }
   ],
   "execution_count": 3
  },
  {
   "metadata": {},
   "cell_type": "markdown",
   "source": "### get_rule_types_names",
   "id": "ab5b4dae3a19210a"
  },
  {
   "metadata": {
    "ExecuteTime": {
     "end_time": "2024-12-18T12:50:01.400766Z",
     "start_time": "2024-12-18T12:50:01.394945Z"
    }
   },
   "cell_type": "code",
   "source": "get_rule_types_names()",
   "id": "10ad7caf9af7c918",
   "outputs": [
    {
     "data": {
      "text/plain": [
       "['bridge',\n",
       " 'tentacled_sea_cucumber',\n",
       " 'cavalry_charge',\n",
       " 'guerrilla_skirmish',\n",
       " 'sea_otter',\n",
       " 'morning_star',\n",
       " 'warehouse',\n",
       " 'journalist',\n",
       " 'rapier',\n",
       " 'graphic_designer',\n",
       " 'puffin',\n",
       " 'data_analyst',\n",
       " 'teacher',\n",
       " 'hamster',\n",
       " 'katana',\n",
       " 'scientist',\n",
       " 'boomerang',\n",
       " 'koala',\n",
       " 'counteroffensive',\n",
       " 'nurse',\n",
       " 'night_raid',\n",
       " 'dentist',\n",
       " 'gondola',\n",
       " 'halberd',\n",
       " 'engineer',\n",
       " 'hospital',\n",
       " 'personal_trainer',\n",
       " 'tarantula',\n",
       " 'architect',\n",
       " 'bastard_sword',\n",
       " 'apartment_building',\n",
       " 'beaver',\n",
       " 'flanking_maneuver',\n",
       " 'komodo_dragon',\n",
       " 'molotov_cocktail',\n",
       " 'bull',\n",
       " 'fox',\n",
       " 'flail',\n",
       " 'firefighter',\n",
       " 'kayak',\n",
       " 'ballista',\n",
       " 'farmer',\n",
       " 'evacuation_operation',\n",
       " 'trench_assault',\n",
       " 'cow',\n",
       " 'chef',\n",
       " 'actor',\n",
       " 'atv',\n",
       " 'castle',\n",
       " 'multi_motor_trampoline',\n",
       " 'parrotfish',\n",
       " 'aerial_dogfight',\n",
       " 'vulture',\n",
       " 'goldfish',\n",
       " 'paratrooper_drop',\n",
       " 'naval_bombardment',\n",
       " 'mole',\n",
       " 'cannon',\n",
       " 'air_strike',\n",
       " 'scimitar',\n",
       " 'shuriken',\n",
       " 'canoe',\n",
       " 'scythe',\n",
       " 'goliath frog',\n",
       " 'electrician',\n",
       " 'cottage',\n",
       " 'conveyor',\n",
       " 'software developer',\n",
       " 'tank_advance',\n",
       " 'church',\n",
       " 'robot',\n",
       " 'gauntlet_knife',\n",
       " 'beetle',\n",
       " 'library',\n",
       " 'factory',\n",
       " 'airship_vehicle',\n",
       " 'artillery_strike',\n",
       " 'psychologist',\n",
       " 'kangaroo',\n",
       " 'anglerfish',\n",
       " 'sabre',\n",
       " 'phoenix fish',\n",
       " 'siege',\n",
       " 'barista',\n",
       " 'pilot',\n",
       " 'hotel',\n",
       " 'minefield_deployment',\n",
       " 'lawyer',\n",
       " 'museum',\n",
       " 'police_officer',\n",
       " 'photographer',\n",
       " 'bow',\n",
       " 'poodle',\n",
       " 'plumber',\n",
       " 'bayonet_charge',\n",
       " 'net_gun',\n",
       " 'battlefield_retreat',\n",
       " 'school',\n",
       " 'kestrel',\n",
       " 'swan',\n",
       " 'electric_train',\n",
       " 'blowgun',\n",
       " 'ambulance',\n",
       " 'ambush',\n",
       " 'pangolin',\n",
       " 'chakram',\n",
       " 'platypus',\n",
       " 'rooster',\n",
       " 'wildcat',\n",
       " 'x4x4_off_road_car',\n",
       " 'event_planner',\n",
       " 'trident',\n",
       " 'mall',\n",
       " 'carpenter',\n",
       " 'rabbit',\n",
       " 'trolley',\n",
       " 'urban_public_transport_system',\n",
       " 'sniper_attack',\n",
       " 'axe',\n",
       " 'mechanic']"
      ]
     },
     "execution_count": 4,
     "metadata": {},
     "output_type": "execute_result"
    }
   ],
   "execution_count": 4
  },
  {
   "metadata": {},
   "cell_type": "markdown",
   "source": "### tweak_rag_parameters",
   "id": "f84d0673113ed63f"
  },
  {
   "metadata": {
    "ExecuteTime": {
     "end_time": "2024-12-18T12:50:01.406883Z",
     "start_time": "2024-12-18T12:50:01.401516Z"
    }
   },
   "cell_type": "code",
   "source": "tweak_rag_parameters(rag_difference=0.002, rag_threshold=0.5)",
   "id": "73c429bfcb16449a",
   "outputs": [
    {
     "data": {
      "text/plain": [
       "True"
      ]
     },
     "execution_count": 5,
     "metadata": {},
     "output_type": "execute_result"
    }
   ],
   "execution_count": 5
  },
  {
   "metadata": {},
   "cell_type": "markdown",
   "source": "### feedback",
   "id": "c28732ff4f735de3"
  },
  {
   "metadata": {
    "ExecuteTime": {
     "end_time": "2024-12-18T12:50:01.413601Z",
     "start_time": "2024-12-18T12:50:01.408056Z"
    }
   },
   "cell_type": "code",
   "source": "feedback(fb=True)",
   "id": "6044b57d40a8c6c6",
   "outputs": [
    {
     "data": {
      "text/plain": [
       "'thank you :)'"
      ]
     },
     "execution_count": 6,
     "metadata": {},
     "output_type": "execute_result"
    }
   ],
   "execution_count": 6
  },
  {
   "metadata": {},
   "cell_type": "code",
   "outputs": [],
   "execution_count": null,
   "source": "",
   "id": "d31395252e6baf51"
  }
 ],
 "metadata": {
  "kernelspec": {
   "display_name": "Python 3",
   "language": "python",
   "name": "python3"
  },
  "language_info": {
   "codemirror_mode": {
    "name": "ipython",
    "version": 2
   },
   "file_extension": ".py",
   "mimetype": "text/x-python",
   "name": "python",
   "nbconvert_exporter": "python",
   "pygments_lexer": "ipython2",
   "version": "2.7.6"
  }
 },
 "nbformat": 4,
 "nbformat_minor": 5
}
