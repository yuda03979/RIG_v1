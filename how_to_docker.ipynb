{
 "cells": [
  {
   "metadata": {
    "ExecuteTime": {
     "end_time": "2024-12-15T20:12:01.072302Z",
     "start_time": "2024-12-15T20:12:01.016542Z"
    }
   },
   "cell_type": "code",
   "source": [
    "import requests\n",
    "import json\n",
    "\n",
    "# Base URL for the API\n",
    "BASE_URL = 'http://0.0.0.0:8000'\n",
    "\n",
    "def init_gemma_model(max_context_length=1536, max_new_tokens=512, n_threads=8):\n",
    "    \"\"\"\n",
    "    Initialize the Gemma model with specified parameters\n",
    "    \n",
    "    :param max_context_length: Maximum context length\n",
    "    :param max_new_tokens: Maximum new tokens to generate\n",
    "    :param n_threads: Number of threads to use\n",
    "    :return: Response from the API\n",
    "    \"\"\"\n",
    "    url = f'{BASE_URL}/init_gemma_model'\n",
    "    params = {\n",
    "        'max_context_length': max_context_length,\n",
    "        'max_new_tokens': max_new_tokens,\n",
    "        'n_threads': n_threads\n",
    "    }\n",
    "    response = requests.post(url, params=params)\n",
    "    return response.json()\n",
    "\n",
    "def get_rule_instance(free_text):\n",
    "    \"\"\"\n",
    "    Get rule instance based on free text input\n",
    "    \n",
    "    :param free_text: Text to query for rule instance\n",
    "    :return: Response from the API\n",
    "    \"\"\"\n",
    "    url = f'{BASE_URL}/get_rule_instance'\n",
    "    params = {\n",
    "        'free_text': free_text\n",
    "    }\n",
    "    response = requests.post(url, params=params)\n",
    "    return response.json()\n",
    "\n",
    "def get_rule_types_names():\n",
    "    \"\"\"\n",
    "    Retrieve rule type names\n",
    "    \n",
    "    :return: Response from the API\n",
    "    \"\"\"\n",
    "    url = f'{BASE_URL}/get_rule_types_names'\n",
    "    response = requests.get(url)\n",
    "    return response.json()\n",
    "\n",
    "def tweak_rag_parameters(rag_difference=0.002, rag_threshold=0.5):\n",
    "    \"\"\"\n",
    "    Adjust RAG (Retrieval-Augmented Generation) parameters\n",
    "    \n",
    "    :param rag_difference: Difference in RAG parameters\n",
    "    :param rag_threshold: Threshold for RAG\n",
    "    :return: Response from the API\n",
    "    \"\"\"\n",
    "    url = f'{BASE_URL}/tweak_rag_parameters'\n",
    "    params = {\n",
    "        'rag_difference': rag_difference,\n",
    "        'rag_threshold': rag_threshold\n",
    "    }\n",
    "    response = requests.post(url, params=params)\n",
    "    return response.json()\n",
    "\n",
    "def feedback(fb=True):\n",
    "    \"\"\"\n",
    "    Send feedback to the API\n",
    "    \n",
    "    :param fb: Feedback boolean\n",
    "    :return: Response from the API\n",
    "    \"\"\"\n",
    "    url = f'{BASE_URL}/feedback'\n",
    "    params = {\n",
    "        'fb': fb\n",
    "    }\n",
    "    response = requests.post(url, params=params)\n",
    "    return response.json()"
   ],
   "id": "7e6124b81671af94",
   "outputs": [],
   "execution_count": 1
  },
  {
   "metadata": {},
   "cell_type": "markdown",
   "source": "# example usage",
   "id": "2c2bd61eb1318d31"
  },
  {
   "metadata": {},
   "cell_type": "markdown",
   "source": "### init gemma model",
   "id": "cef26a64567d870f"
  },
  {
   "metadata": {
    "ExecuteTime": {
     "end_time": "2024-12-15T20:12:02.498277Z",
     "start_time": "2024-12-15T20:12:01.073292Z"
    }
   },
   "cell_type": "code",
   "source": "init_gemma_model(max_context_length=1536, max_new_tokens=512, n_threads=8)",
   "id": "c0cd3466df3ee8c5",
   "outputs": [
    {
     "data": {
      "text/plain": [
       "True"
      ]
     },
     "execution_count": 2,
     "metadata": {},
     "output_type": "execute_result"
    }
   ],
   "execution_count": 2
  },
  {
   "metadata": {},
   "cell_type": "markdown",
   "source": "### get_rule_instance",
   "id": "14122b4502ba422"
  },
  {
   "metadata": {
    "ExecuteTime": {
     "end_time": "2024-12-15T20:12:18.871609Z",
     "start_time": "2024-12-15T20:12:02.499255Z"
    }
   },
   "cell_type": "code",
   "source": [
    "free_text = \"system failure severity 5 altitute 14 age 30\"\n",
    "\n",
    "get_rule_instance(free_text)"
   ],
   "id": "191e8e15aca6df41",
   "outputs": [
    {
     "data": {
      "text/plain": [
       "{'rule_instance': {'_id': '00000000-0000-0000-0000-000000000000',\n",
       "  'description': 'string',\n",
       "  'isActive': True,\n",
       "  'lastUpdateTime': '00/00/0000 00:00:00',\n",
       "  'params': {'speed': 'null',\n",
       "   'type': 'null',\n",
       "   'weight': 'null',\n",
       "   'fuel': 'null',\n",
       "   'altitute': 14,\n",
       "   'wheels': 'null',\n",
       "   'engine': 'null'},\n",
       "  'ruleInstanceName': 'system failure - system failure',\n",
       "  'severity': 5,\n",
       "  'ruleType': 'structured',\n",
       "  'ruleOwner': '',\n",
       "  'ruleTypeId': 'fb8e8ef1-e382-43b5-b896-70d254878751',\n",
       "  'eventDetails': [{'objectName': 'Airplan',\n",
       "    'objectDescription': None,\n",
       "    'timeWindowInMilliseconds': 0,\n",
       "    'useLatest': False}],\n",
       "  'additionalInformation': {},\n",
       "  'presetId': '00000000-0000-0000-0000-000000000000'},\n",
       " 'is_error': False,\n",
       " 'error_message': '',\n",
       " 'free_text': 'system failure severity 5 altitute 14 age 30',\n",
       " 'type_name': 'system failure',\n",
       " 'rag_score': 0.5692118406295776,\n",
       " 'model_response': '{\\'speed\\': \\'null\\', \\'type\\': \\'null\\', \\'weight\\': \\'null\\', \\'fuel\\': \\'null\\', \\'altitute\\': 14, \\'wheels\\': \\'null\\', \\'engine\\': \\'null\\', \\'ruleInstanceName\\': \"system failure - system failure\", \\'severity\\': 5}',\n",
       " 'schema': {'speed': 'Int',\n",
       "  'type': 'String',\n",
       "  'weight': 'Int',\n",
       "  'fuel': 'Int',\n",
       "  'altitute': 'Int',\n",
       "  'wheels': 'Int',\n",
       "  'engine': 'Int',\n",
       "  'ruleInstanceName': 'string',\n",
       "  'severity': 'int'},\n",
       " 'time': '2024-12-15|20:12:18',\n",
       " 'inference_time': 16.362610340118408}"
      ]
     },
     "execution_count": 3,
     "metadata": {},
     "output_type": "execute_result"
    }
   ],
   "execution_count": 3
  },
  {
   "metadata": {},
   "cell_type": "markdown",
   "source": "### get_rule_types_names",
   "id": "ab5b4dae3a19210a"
  },
  {
   "metadata": {
    "ExecuteTime": {
     "end_time": "2024-12-15T20:12:18.878960Z",
     "start_time": "2024-12-15T20:12:18.873817Z"
    }
   },
   "cell_type": "code",
   "source": "get_rule_types_names()",
   "id": "10ad7caf9af7c918",
   "outputs": [
    {
     "data": {
      "text/plain": [
       "['missile malfunction',\n",
       " 'missile failure',\n",
       " 'launch failure',\n",
       " 'platoon report',\n",
       " 'encryption flaw',\n",
       " 'corruption scandal',\n",
       " 'betrayal risk',\n",
       " 'leadership breakdown',\n",
       " 'satellite disruption',\n",
       " 'bomb failure',\n",
       " 'defection threat',\n",
       " 'attack overview',\n",
       " 'fire control',\n",
       " 'disloyal soldier',\n",
       " 'command incompetence',\n",
       " 'supply shortage',\n",
       " 'system failure',\n",
       " 'covert agent',\n",
       " 'suspected person',\n",
       " 'radar error monitoring',\n",
       " 'api throttling',\n",
       " 'temperature overload',\n",
       " 'disk space warning',\n",
       " 'memory usage alert',\n",
       " 'equipment malfunction',\n",
       " 'password expiry',\n",
       " 'temperature threshold exceeded']"
      ]
     },
     "execution_count": 4,
     "metadata": {},
     "output_type": "execute_result"
    }
   ],
   "execution_count": 4
  },
  {
   "metadata": {},
   "cell_type": "markdown",
   "source": "### tweak_rag_parameters",
   "id": "f84d0673113ed63f"
  },
  {
   "metadata": {
    "ExecuteTime": {
     "end_time": "2024-12-15T20:12:18.884992Z",
     "start_time": "2024-12-15T20:12:18.880346Z"
    }
   },
   "cell_type": "code",
   "source": "tweak_rag_parameters(rag_difference=0.002, rag_threshold=0.5)",
   "id": "73c429bfcb16449a",
   "outputs": [
    {
     "data": {
      "text/plain": [
       "True"
      ]
     },
     "execution_count": 5,
     "metadata": {},
     "output_type": "execute_result"
    }
   ],
   "execution_count": 5
  },
  {
   "metadata": {},
   "cell_type": "markdown",
   "source": "### feedback",
   "id": "c28732ff4f735de3"
  },
  {
   "metadata": {
    "ExecuteTime": {
     "end_time": "2024-12-15T20:12:18.890575Z",
     "start_time": "2024-12-15T20:12:18.885488Z"
    }
   },
   "cell_type": "code",
   "source": "feedback(fb=True)",
   "id": "6044b57d40a8c6c6",
   "outputs": [
    {
     "data": {
      "text/plain": [
       "'thank you :)'"
      ]
     },
     "execution_count": 6,
     "metadata": {},
     "output_type": "execute_result"
    }
   ],
   "execution_count": 6
  }
 ],
 "metadata": {
  "kernelspec": {
   "display_name": "Python 3",
   "language": "python",
   "name": "python3"
  },
  "language_info": {
   "codemirror_mode": {
    "name": "ipython",
    "version": 2
   },
   "file_extension": ".py",
   "mimetype": "text/x-python",
   "name": "python",
   "nbconvert_exporter": "python",
   "pygments_lexer": "ipython2",
   "version": "2.7.6"
  }
 },
 "nbformat": 4,
 "nbformat_minor": 5
}
